{
 "cells": [
  {
   "cell_type": "markdown",
   "id": "b7d13d7f",
   "metadata": {},
   "source": [
    "## Problem Statement\n",
    "\n",
    "Price of a property is one of the most important decision criterion when people buy homes. Real state firms need to be consistent in their pricing in order to attract buyers . Having a predictive model for the same will be great tool to have , which in turn can also be used to tweak development of properties , putting more emphasis on qualities which increase the value of the property.\n",
    "\n",
    "\n",
    "\n",
    "We have given you two datasets , housing_train.csv and housing_test.csv . You need to use data housing_train.csv to build predictive model for response variable \"Price\". housing_test.csv data contains all other factors except \"Price\", you need to predict that using the model that you developed and submit your predicted values in a csv files.\n",
    "\n",
    "#### Evaluation Criterion : \n",
    "\n",
    "#### Score will be calculated as:\n",
    "\n",
    "Score = 212467/RMSE (Note : Don't worry about change in scoring method , this is just a cosmetic change to alter scale of score , passing criterion hasn't changed and you don't need to resubmit )\n",
    "\n",
    "Where RMSE is root mean square error on test file. "
   ]
  },
  {
   "cell_type": "code",
   "execution_count": 1,
   "id": "688b5aca",
   "metadata": {},
   "outputs": [],
   "source": [
    "h_train = read.csv(\"housing_train.csv\",stringsAsFactors = F)\n",
    "h_test = read.csv(\"housing_test.csv\",stringsAsFactors = F)"
   ]
  },
  {
   "cell_type": "code",
   "execution_count": 2,
   "id": "21d9f8de",
   "metadata": {},
   "outputs": [
    {
     "data": {
      "text/html": [
       "<table class=\"dataframe\">\n",
       "<caption>A data.frame: 6 × 16</caption>\n",
       "<thead>\n",
       "\t<tr><th></th><th scope=col>Suburb</th><th scope=col>Address</th><th scope=col>Rooms</th><th scope=col>Type</th><th scope=col>Price</th><th scope=col>Method</th><th scope=col>SellerG</th><th scope=col>Distance</th><th scope=col>Postcode</th><th scope=col>Bedroom2</th><th scope=col>Bathroom</th><th scope=col>Car</th><th scope=col>Landsize</th><th scope=col>BuildingArea</th><th scope=col>YearBuilt</th><th scope=col>CouncilArea</th></tr>\n",
       "\t<tr><th></th><th scope=col>&lt;chr&gt;</th><th scope=col>&lt;chr&gt;</th><th scope=col>&lt;int&gt;</th><th scope=col>&lt;chr&gt;</th><th scope=col>&lt;int&gt;</th><th scope=col>&lt;chr&gt;</th><th scope=col>&lt;chr&gt;</th><th scope=col>&lt;dbl&gt;</th><th scope=col>&lt;int&gt;</th><th scope=col>&lt;int&gt;</th><th scope=col>&lt;int&gt;</th><th scope=col>&lt;int&gt;</th><th scope=col>&lt;int&gt;</th><th scope=col>&lt;int&gt;</th><th scope=col>&lt;int&gt;</th><th scope=col>&lt;chr&gt;</th></tr>\n",
       "</thead>\n",
       "<tbody>\n",
       "\t<tr><th scope=row>1</th><td>Brunswick    </td><td>52 Evans St   </td><td>3</td><td>h</td><td>1650000</td><td>S </td><td>Nelson</td><td> 5.2</td><td>3056</td><td> 3</td><td> 1</td><td> 2</td><td>495</td><td>141</td><td>1920</td><td>Moreland   </td></tr>\n",
       "\t<tr><th scope=row>2</th><td>Reservoir    </td><td>85 Radford Rd </td><td>5</td><td>h</td><td> 791000</td><td>S </td><td>Ray   </td><td>11.2</td><td>3073</td><td> 4</td><td> 3</td><td> 1</td><td>961</td><td> NA</td><td>  NA</td><td>Darebin    </td></tr>\n",
       "\t<tr><th scope=row>3</th><td>Newport      </td><td>99 Anderson St</td><td>3</td><td>h</td><td> 785000</td><td>S </td><td>RT    </td><td> 8.4</td><td>3015</td><td> 3</td><td> 1</td><td> 1</td><td>185</td><td> NA</td><td>  NA</td><td>Hobsons Bay</td></tr>\n",
       "\t<tr><th scope=row>4</th><td>Brighton East</td><td>4/377 South Rd</td><td>2</td><td>u</td><td> 755000</td><td>SP</td><td>Buxton</td><td>10.7</td><td>3187</td><td>NA</td><td>NA</td><td>NA</td><td> NA</td><td> NA</td><td>  NA</td><td>           </td></tr>\n",
       "\t<tr><th scope=row>5</th><td>Hawthorn East</td><td>3 Jaques St   </td><td>5</td><td>h</td><td>2500000</td><td>VB</td><td>RT    </td><td> 7.5</td><td>3123</td><td> 5</td><td> 3</td><td> 3</td><td>757</td><td>240</td><td>1925</td><td>Boroondara </td></tr>\n",
       "\t<tr><th scope=row>6</th><td>Hawthorn East</td><td>75 Leura Gr   </td><td>3</td><td>h</td><td>3020000</td><td>S </td><td>Hooper</td><td> 7.5</td><td>3123</td><td> 3</td><td> 2</td><td> 2</td><td>832</td><td> NA</td><td>  NA</td><td>Boroondara </td></tr>\n",
       "</tbody>\n",
       "</table>\n"
      ],
      "text/latex": [
       "A data.frame: 6 × 16\n",
       "\\begin{tabular}{r|llllllllllllllll}\n",
       "  & Suburb & Address & Rooms & Type & Price & Method & SellerG & Distance & Postcode & Bedroom2 & Bathroom & Car & Landsize & BuildingArea & YearBuilt & CouncilArea\\\\\n",
       "  & <chr> & <chr> & <int> & <chr> & <int> & <chr> & <chr> & <dbl> & <int> & <int> & <int> & <int> & <int> & <int> & <int> & <chr>\\\\\n",
       "\\hline\n",
       "\t1 & Brunswick     & 52 Evans St    & 3 & h & 1650000 & S  & Nelson &  5.2 & 3056 &  3 &  1 &  2 & 495 & 141 & 1920 & Moreland   \\\\\n",
       "\t2 & Reservoir     & 85 Radford Rd  & 5 & h &  791000 & S  & Ray    & 11.2 & 3073 &  4 &  3 &  1 & 961 &  NA &   NA & Darebin    \\\\\n",
       "\t3 & Newport       & 99 Anderson St & 3 & h &  785000 & S  & RT     &  8.4 & 3015 &  3 &  1 &  1 & 185 &  NA &   NA & Hobsons Bay\\\\\n",
       "\t4 & Brighton East & 4/377 South Rd & 2 & u &  755000 & SP & Buxton & 10.7 & 3187 & NA & NA & NA &  NA &  NA &   NA &            \\\\\n",
       "\t5 & Hawthorn East & 3 Jaques St    & 5 & h & 2500000 & VB & RT     &  7.5 & 3123 &  5 &  3 &  3 & 757 & 240 & 1925 & Boroondara \\\\\n",
       "\t6 & Hawthorn East & 75 Leura Gr    & 3 & h & 3020000 & S  & Hooper &  7.5 & 3123 &  3 &  2 &  2 & 832 &  NA &   NA & Boroondara \\\\\n",
       "\\end{tabular}\n"
      ],
      "text/markdown": [
       "\n",
       "A data.frame: 6 × 16\n",
       "\n",
       "| <!--/--> | Suburb &lt;chr&gt; | Address &lt;chr&gt; | Rooms &lt;int&gt; | Type &lt;chr&gt; | Price &lt;int&gt; | Method &lt;chr&gt; | SellerG &lt;chr&gt; | Distance &lt;dbl&gt; | Postcode &lt;int&gt; | Bedroom2 &lt;int&gt; | Bathroom &lt;int&gt; | Car &lt;int&gt; | Landsize &lt;int&gt; | BuildingArea &lt;int&gt; | YearBuilt &lt;int&gt; | CouncilArea &lt;chr&gt; |\n",
       "|---|---|---|---|---|---|---|---|---|---|---|---|---|---|---|---|---|\n",
       "| 1 | Brunswick     | 52 Evans St    | 3 | h | 1650000 | S  | Nelson |  5.2 | 3056 |  3 |  1 |  2 | 495 | 141 | 1920 | Moreland    |\n",
       "| 2 | Reservoir     | 85 Radford Rd  | 5 | h |  791000 | S  | Ray    | 11.2 | 3073 |  4 |  3 |  1 | 961 |  NA |   NA | Darebin     |\n",
       "| 3 | Newport       | 99 Anderson St | 3 | h |  785000 | S  | RT     |  8.4 | 3015 |  3 |  1 |  1 | 185 |  NA |   NA | Hobsons Bay |\n",
       "| 4 | Brighton East | 4/377 South Rd | 2 | u |  755000 | SP | Buxton | 10.7 | 3187 | NA | NA | NA |  NA |  NA |   NA | <!----> |\n",
       "| 5 | Hawthorn East | 3 Jaques St    | 5 | h | 2500000 | VB | RT     |  7.5 | 3123 |  5 |  3 |  3 | 757 | 240 | 1925 | Boroondara  |\n",
       "| 6 | Hawthorn East | 75 Leura Gr    | 3 | h | 3020000 | S  | Hooper |  7.5 | 3123 |  3 |  2 |  2 | 832 |  NA |   NA | Boroondara  |\n",
       "\n"
      ],
      "text/plain": [
       "  Suburb        Address        Rooms Type Price   Method SellerG Distance\n",
       "1 Brunswick     52 Evans St    3     h    1650000 S      Nelson   5.2    \n",
       "2 Reservoir     85 Radford Rd  5     h     791000 S      Ray     11.2    \n",
       "3 Newport       99 Anderson St 3     h     785000 S      RT       8.4    \n",
       "4 Brighton East 4/377 South Rd 2     u     755000 SP     Buxton  10.7    \n",
       "5 Hawthorn East 3 Jaques St    5     h    2500000 VB     RT       7.5    \n",
       "6 Hawthorn East 75 Leura Gr    3     h    3020000 S      Hooper   7.5    \n",
       "  Postcode Bedroom2 Bathroom Car Landsize BuildingArea YearBuilt CouncilArea\n",
       "1 3056      3        1        2  495      141          1920      Moreland   \n",
       "2 3073      4        3        1  961       NA            NA      Darebin    \n",
       "3 3015      3        1        1  185       NA            NA      Hobsons Bay\n",
       "4 3187     NA       NA       NA   NA       NA            NA                 \n",
       "5 3123      5        3        3  757      240          1925      Boroondara \n",
       "6 3123      3        2        2  832       NA            NA      Boroondara "
      ]
     },
     "metadata": {},
     "output_type": "display_data"
    }
   ],
   "source": [
    "head(h_train)"
   ]
  },
  {
   "cell_type": "code",
   "execution_count": 3,
   "id": "7941abec",
   "metadata": {},
   "outputs": [
    {
     "data": {
      "text/html": [
       "<table class=\"dataframe\">\n",
       "<caption>A data.frame: 6 × 15</caption>\n",
       "<thead>\n",
       "\t<tr><th></th><th scope=col>Suburb</th><th scope=col>Address</th><th scope=col>Rooms</th><th scope=col>Type</th><th scope=col>Method</th><th scope=col>SellerG</th><th scope=col>Distance</th><th scope=col>Postcode</th><th scope=col>Bedroom2</th><th scope=col>Bathroom</th><th scope=col>Car</th><th scope=col>Landsize</th><th scope=col>BuildingArea</th><th scope=col>YearBuilt</th><th scope=col>CouncilArea</th></tr>\n",
       "\t<tr><th></th><th scope=col>&lt;chr&gt;</th><th scope=col>&lt;chr&gt;</th><th scope=col>&lt;int&gt;</th><th scope=col>&lt;chr&gt;</th><th scope=col>&lt;chr&gt;</th><th scope=col>&lt;chr&gt;</th><th scope=col>&lt;dbl&gt;</th><th scope=col>&lt;int&gt;</th><th scope=col>&lt;int&gt;</th><th scope=col>&lt;int&gt;</th><th scope=col>&lt;int&gt;</th><th scope=col>&lt;int&gt;</th><th scope=col>&lt;int&gt;</th><th scope=col>&lt;int&gt;</th><th scope=col>&lt;chr&gt;</th></tr>\n",
       "</thead>\n",
       "<tbody>\n",
       "\t<tr><th scope=row>1</th><td>Abbotsford</td><td>6/241 Nicholson St </td><td>1</td><td>u</td><td>S </td><td>Biggin      </td><td>2.5</td><td>3067</td><td> 1</td><td> 1</td><td> 1</td><td>  0</td><td> NA</td><td>  NA</td><td>Yarra</td></tr>\n",
       "\t<tr><th scope=row>2</th><td>Abbotsford</td><td>403/609 Victoria St</td><td>2</td><td>u</td><td>S </td><td>Dingle      </td><td>2.5</td><td>3067</td><td>NA</td><td>NA</td><td>NA</td><td> NA</td><td> NA</td><td>  NA</td><td>     </td></tr>\n",
       "\t<tr><th scope=row>3</th><td>Abbotsford</td><td>106/119 Turner St  </td><td>1</td><td>u</td><td>SP</td><td>Purplebricks</td><td>2.5</td><td>3067</td><td>NA</td><td>NA</td><td>NA</td><td> NA</td><td> NA</td><td>  NA</td><td>     </td></tr>\n",
       "\t<tr><th scope=row>4</th><td>Abbotsford</td><td>22 Park St         </td><td>4</td><td>h</td><td>S </td><td>Biggin      </td><td>2.5</td><td>3067</td><td>NA</td><td>NA</td><td>NA</td><td> NA</td><td> NA</td><td>  NA</td><td>     </td></tr>\n",
       "\t<tr><th scope=row>5</th><td>Abbotsford</td><td>78 Yarra St        </td><td>3</td><td>h</td><td>S </td><td>LITTLE      </td><td>2.5</td><td>3067</td><td> 2</td><td> 1</td><td> 1</td><td>138</td><td>105</td><td>1890</td><td>Yarra</td></tr>\n",
       "\t<tr><th scope=row>6</th><td>Abbotsford</td><td>13/11 Nicholson St </td><td>3</td><td>t</td><td>S </td><td>Beller      </td><td>2.5</td><td>3067</td><td> 3</td><td> 2</td><td> 2</td><td>  0</td><td> NA</td><td>2010</td><td>Yarra</td></tr>\n",
       "</tbody>\n",
       "</table>\n"
      ],
      "text/latex": [
       "A data.frame: 6 × 15\n",
       "\\begin{tabular}{r|lllllllllllllll}\n",
       "  & Suburb & Address & Rooms & Type & Method & SellerG & Distance & Postcode & Bedroom2 & Bathroom & Car & Landsize & BuildingArea & YearBuilt & CouncilArea\\\\\n",
       "  & <chr> & <chr> & <int> & <chr> & <chr> & <chr> & <dbl> & <int> & <int> & <int> & <int> & <int> & <int> & <int> & <chr>\\\\\n",
       "\\hline\n",
       "\t1 & Abbotsford & 6/241 Nicholson St  & 1 & u & S  & Biggin       & 2.5 & 3067 &  1 &  1 &  1 &   0 &  NA &   NA & Yarra\\\\\n",
       "\t2 & Abbotsford & 403/609 Victoria St & 2 & u & S  & Dingle       & 2.5 & 3067 & NA & NA & NA &  NA &  NA &   NA &      \\\\\n",
       "\t3 & Abbotsford & 106/119 Turner St   & 1 & u & SP & Purplebricks & 2.5 & 3067 & NA & NA & NA &  NA &  NA &   NA &      \\\\\n",
       "\t4 & Abbotsford & 22 Park St          & 4 & h & S  & Biggin       & 2.5 & 3067 & NA & NA & NA &  NA &  NA &   NA &      \\\\\n",
       "\t5 & Abbotsford & 78 Yarra St         & 3 & h & S  & LITTLE       & 2.5 & 3067 &  2 &  1 &  1 & 138 & 105 & 1890 & Yarra\\\\\n",
       "\t6 & Abbotsford & 13/11 Nicholson St  & 3 & t & S  & Beller       & 2.5 & 3067 &  3 &  2 &  2 &   0 &  NA & 2010 & Yarra\\\\\n",
       "\\end{tabular}\n"
      ],
      "text/markdown": [
       "\n",
       "A data.frame: 6 × 15\n",
       "\n",
       "| <!--/--> | Suburb &lt;chr&gt; | Address &lt;chr&gt; | Rooms &lt;int&gt; | Type &lt;chr&gt; | Method &lt;chr&gt; | SellerG &lt;chr&gt; | Distance &lt;dbl&gt; | Postcode &lt;int&gt; | Bedroom2 &lt;int&gt; | Bathroom &lt;int&gt; | Car &lt;int&gt; | Landsize &lt;int&gt; | BuildingArea &lt;int&gt; | YearBuilt &lt;int&gt; | CouncilArea &lt;chr&gt; |\n",
       "|---|---|---|---|---|---|---|---|---|---|---|---|---|---|---|---|\n",
       "| 1 | Abbotsford | 6/241 Nicholson St  | 1 | u | S  | Biggin       | 2.5 | 3067 |  1 |  1 |  1 |   0 |  NA |   NA | Yarra |\n",
       "| 2 | Abbotsford | 403/609 Victoria St | 2 | u | S  | Dingle       | 2.5 | 3067 | NA | NA | NA |  NA |  NA |   NA | <!----> |\n",
       "| 3 | Abbotsford | 106/119 Turner St   | 1 | u | SP | Purplebricks | 2.5 | 3067 | NA | NA | NA |  NA |  NA |   NA | <!----> |\n",
       "| 4 | Abbotsford | 22 Park St          | 4 | h | S  | Biggin       | 2.5 | 3067 | NA | NA | NA |  NA |  NA |   NA | <!----> |\n",
       "| 5 | Abbotsford | 78 Yarra St         | 3 | h | S  | LITTLE       | 2.5 | 3067 |  2 |  1 |  1 | 138 | 105 | 1890 | Yarra |\n",
       "| 6 | Abbotsford | 13/11 Nicholson St  | 3 | t | S  | Beller       | 2.5 | 3067 |  3 |  2 |  2 |   0 |  NA | 2010 | Yarra |\n",
       "\n"
      ],
      "text/plain": [
       "  Suburb     Address             Rooms Type Method SellerG      Distance\n",
       "1 Abbotsford 6/241 Nicholson St  1     u    S      Biggin       2.5     \n",
       "2 Abbotsford 403/609 Victoria St 2     u    S      Dingle       2.5     \n",
       "3 Abbotsford 106/119 Turner St   1     u    SP     Purplebricks 2.5     \n",
       "4 Abbotsford 22 Park St          4     h    S      Biggin       2.5     \n",
       "5 Abbotsford 78 Yarra St         3     h    S      LITTLE       2.5     \n",
       "6 Abbotsford 13/11 Nicholson St  3     t    S      Beller       2.5     \n",
       "  Postcode Bedroom2 Bathroom Car Landsize BuildingArea YearBuilt CouncilArea\n",
       "1 3067      1        1        1    0       NA            NA      Yarra      \n",
       "2 3067     NA       NA       NA   NA       NA            NA                 \n",
       "3 3067     NA       NA       NA   NA       NA            NA                 \n",
       "4 3067     NA       NA       NA   NA       NA            NA                 \n",
       "5 3067      2        1        1  138      105          1890      Yarra      \n",
       "6 3067      3        2        2    0       NA          2010      Yarra      "
      ]
     },
     "metadata": {},
     "output_type": "display_data"
    }
   ],
   "source": [
    "head(h_test)"
   ]
  },
  {
   "cell_type": "code",
   "execution_count": 4,
   "id": "275c1c65",
   "metadata": {},
   "outputs": [
    {
     "name": "stderr",
     "output_type": "stream",
     "text": [
      "Installing package into 'C:/Users/HomePC/AppData/Local/R/win-library/4.4'\n",
      "(as 'lib' is unspecified)\n",
      "\n"
     ]
    },
    {
     "name": "stdout",
     "output_type": "stream",
     "text": [
      "package 'dplyr' successfully unpacked and MD5 sums checked\n",
      "\n",
      "The downloaded binary packages are in\n",
      "\tC:\\Users\\HomePC\\AppData\\Local\\Temp\\RtmpGGZ38a\\downloaded_packages\n"
     ]
    },
    {
     "name": "stderr",
     "output_type": "stream",
     "text": [
      "\n",
      "Attaching package: 'dplyr'\n",
      "\n",
      "\n",
      "The following objects are masked from 'package:stats':\n",
      "\n",
      "    filter, lag\n",
      "\n",
      "\n",
      "The following objects are masked from 'package:base':\n",
      "\n",
      "    intersect, setdiff, setequal, union\n",
      "\n",
      "\n"
     ]
    }
   ],
   "source": [
    "install.packages(\"dplyr\")  # Install the dplyr package\n",
    "library(dplyr)             # Load the dplyr package\n"
   ]
  },
  {
   "cell_type": "code",
   "execution_count": 5,
   "id": "9df56905",
   "metadata": {},
   "outputs": [],
   "source": [
    "library(dplyr)"
   ]
  },
  {
   "cell_type": "code",
   "execution_count": 6,
   "id": "f73f7df6",
   "metadata": {},
   "outputs": [
    {
     "name": "stdout",
     "output_type": "stream",
     "text": [
      "Rows: 7,536\n",
      "Columns: 16\n",
      "$ Suburb       \u001b[3m\u001b[90m<chr>\u001b[39m\u001b[23m \"Brunswick\", \"Reservoir\", \"Newport\", \"Brighton East\", \"Ha…\n",
      "$ Address      \u001b[3m\u001b[90m<chr>\u001b[39m\u001b[23m \"52 Evans St\", \"85 Radford Rd\", \"99 Anderson St\", \"4/377 …\n",
      "$ Rooms        \u001b[3m\u001b[90m<int>\u001b[39m\u001b[23m 3, 5, 3, 2, 5, 3, 3, 3, 4, 2, 3, 2, 2, 2, 4, 3, 2, 2, 4, …\n",
      "$ Type         \u001b[3m\u001b[90m<chr>\u001b[39m\u001b[23m \"h\", \"h\", \"h\", \"u\", \"h\", \"h\", \"h\", \"h\", \"h\", \"u\", \"t\", \"u…\n",
      "$ Price        \u001b[3m\u001b[90m<int>\u001b[39m\u001b[23m 1650000, 791000, 785000, 755000, 2500000, 3020000, 780000…\n",
      "$ Method       \u001b[3m\u001b[90m<chr>\u001b[39m\u001b[23m \"S\", \"S\", \"S\", \"SP\", \"VB\", \"S\", \"VB\", \"VB\", \"PI\", \"S\", \"P…\n",
      "$ SellerG      \u001b[3m\u001b[90m<chr>\u001b[39m\u001b[23m \"Nelson\", \"Ray\", \"RT\", \"Buxton\", \"RT\", \"Hooper\", \"hocking…\n",
      "$ Distance     \u001b[3m\u001b[90m<dbl>\u001b[39m\u001b[23m 5.2, 11.2, 8.4, 10.7, 7.5, 7.5, 13.9, 11.2, 12.8, 11.8, 1…\n",
      "$ Postcode     \u001b[3m\u001b[90m<int>\u001b[39m\u001b[23m 3056, 3073, 3015, 3187, 3123, 3123, 3165, 3127, 3033, 312…\n",
      "$ Bedroom2     \u001b[3m\u001b[90m<int>\u001b[39m\u001b[23m 3, 4, 3, NA, 5, 3, 3, 3, NA, 2, NA, 2, 2, 2, 4, NA, 2, 2,…\n",
      "$ Bathroom     \u001b[3m\u001b[90m<int>\u001b[39m\u001b[23m 1, 3, 1, NA, 3, 2, 1, 2, NA, 2, NA, 1, 2, 1, 2, NA, 1, 1,…\n",
      "$ Car          \u001b[3m\u001b[90m<int>\u001b[39m\u001b[23m 2, 1, 1, NA, 3, 2, 1, 4, NA, 2, NA, 1, 1, 1, 1, NA, 1, 4,…\n",
      "$ Landsize     \u001b[3m\u001b[90m<int>\u001b[39m\u001b[23m 495, 961, 185, NA, 757, 832, 710, 816, NA, 0, NA, 0, 0, 1…\n",
      "$ BuildingArea \u001b[3m\u001b[90m<int>\u001b[39m\u001b[23m 141, NA, NA, NA, 240, NA, NA, NA, NA, 80, NA, 69, NA, NA,…\n",
      "$ YearBuilt    \u001b[3m\u001b[90m<int>\u001b[39m\u001b[23m 1920, NA, NA, NA, 1925, NA, 1966, NA, NA, 2003, NA, 1970,…\n",
      "$ CouncilArea  \u001b[3m\u001b[90m<chr>\u001b[39m\u001b[23m \"Moreland\", \"Darebin\", \"Hobsons Bay\", \"\", \"Boroondara\", \"…\n"
     ]
    }
   ],
   "source": [
    "glimpse(h_train)"
   ]
  },
  {
   "cell_type": "code",
   "execution_count": 7,
   "id": "3f4aa9cd",
   "metadata": {},
   "outputs": [
    {
     "name": "stdout",
     "output_type": "stream",
     "text": [
      "Rows: 1,885\n",
      "Columns: 15\n",
      "$ Suburb       \u001b[3m\u001b[90m<chr>\u001b[39m\u001b[23m \"Abbotsford\", \"Abbotsford\", \"Abbotsford\", \"Abbotsford\", \"…\n",
      "$ Address      \u001b[3m\u001b[90m<chr>\u001b[39m\u001b[23m \"6/241 Nicholson St\", \"403/609 Victoria St\", \"106/119 Tur…\n",
      "$ Rooms        \u001b[3m\u001b[90m<int>\u001b[39m\u001b[23m 1, 2, 1, 4, 3, 3, 3, 1, 1, 2, 3, 1, 3, 2, 3, 3, 2, 3, 3, …\n",
      "$ Type         \u001b[3m\u001b[90m<chr>\u001b[39m\u001b[23m \"u\", \"u\", \"u\", \"h\", \"h\", \"t\", \"u\", \"u\", \"u\", \"h\", \"t\", \"u…\n",
      "$ Method       \u001b[3m\u001b[90m<chr>\u001b[39m\u001b[23m \"S\", \"S\", \"SP\", \"S\", \"S\", \"S\", \"S\", \"S\", \"SP\", \"S\", \"SP\",…\n",
      "$ SellerG      \u001b[3m\u001b[90m<chr>\u001b[39m\u001b[23m \"Biggin\", \"Dingle\", \"Purplebricks\", \"Biggin\", \"LITTLE\", \"…\n",
      "$ Distance     \u001b[3m\u001b[90m<dbl>\u001b[39m\u001b[23m 2.5, 2.5, 2.5, 2.5, 2.5, 2.5, 2.5, 2.5, 2.5, 2.5, 2.5, 2.…\n",
      "$ Postcode     \u001b[3m\u001b[90m<int>\u001b[39m\u001b[23m 3067, 3067, 3067, 3067, 3067, 3067, 3067, 3067, 3067, 306…\n",
      "$ Bedroom2     \u001b[3m\u001b[90m<int>\u001b[39m\u001b[23m 1, NA, NA, NA, 2, 3, 3, NA, 1, 2, NA, 1, 3, NA, 3, 2, 2, …\n",
      "$ Bathroom     \u001b[3m\u001b[90m<int>\u001b[39m\u001b[23m 1, NA, NA, NA, 1, 2, 2, NA, 1, 2, NA, 1, 2, NA, 2, 1, 1, …\n",
      "$ Car          \u001b[3m\u001b[90m<int>\u001b[39m\u001b[23m 1, NA, NA, NA, 1, 2, 2, NA, 1, 2, NA, 1, 1, NA, 2, 1, 1, …\n",
      "$ Landsize     \u001b[3m\u001b[90m<int>\u001b[39m\u001b[23m 0, NA, NA, NA, 138, 0, 4290, NA, 0, 98, NA, 0, 120, NA, 2…\n",
      "$ BuildingArea \u001b[3m\u001b[90m<int>\u001b[39m\u001b[23m NA, NA, NA, NA, 105, NA, 27, NA, NA, 128, NA, 50, 128, NA…\n",
      "$ YearBuilt    \u001b[3m\u001b[90m<int>\u001b[39m\u001b[23m NA, NA, NA, NA, 1890, 2010, NA, NA, NA, 1920, NA, 2013, 1…\n",
      "$ CouncilArea  \u001b[3m\u001b[90m<chr>\u001b[39m\u001b[23m \"Yarra\", \"\", \"\", \"\", \"Yarra\", \"Yarra\", \"Yarra\", \"\", \"Yarr…\n"
     ]
    }
   ],
   "source": [
    "glimpse(h_test)"
   ]
  },
  {
   "cell_type": "markdown",
   "id": "0fdee278",
   "metadata": {},
   "source": [
    "Train data contain 7536 observations or rows & 16 variables whereas test data has 1885 observations & 15 variables."
   ]
  },
  {
   "cell_type": "markdown",
   "id": "99d005c7",
   "metadata": {},
   "source": [
    "### Data Preparation\n",
    "\n",
    "We’ll combine our two datasets so that we do not need to prepare data separately for them. However before combining them, we’ll need to add response column to test because number of columns need to be same for two datasets to stack vertically. Also we will add an identifier column to both train & test data sets so that we can separate them after our data preparation."
   ]
  },
  {
   "cell_type": "code",
   "execution_count": 8,
   "id": "6cc671b9",
   "metadata": {},
   "outputs": [],
   "source": [
    "h_test$Price=NA\n",
    "\n",
    "h_train$data=\"train\"\n",
    "h_test$data=\"test\"\n",
    "\n",
    "h=rbind(h_train,h_test)"
   ]
  },
  {
   "cell_type": "markdown",
   "id": "710e054d",
   "metadata": {},
   "source": [
    "Let us now glimpse our combined data sets ‘h’."
   ]
  },
  {
   "cell_type": "code",
   "execution_count": 9,
   "id": "965bfbbb",
   "metadata": {},
   "outputs": [
    {
     "name": "stdout",
     "output_type": "stream",
     "text": [
      "Rows: 9,421\n",
      "Columns: 17\n",
      "$ Suburb       \u001b[3m\u001b[90m<chr>\u001b[39m\u001b[23m \"Brunswick\", \"Reservoir\", \"Newport\", \"Brighton East\", \"Ha…\n",
      "$ Address      \u001b[3m\u001b[90m<chr>\u001b[39m\u001b[23m \"52 Evans St\", \"85 Radford Rd\", \"99 Anderson St\", \"4/377 …\n",
      "$ Rooms        \u001b[3m\u001b[90m<int>\u001b[39m\u001b[23m 3, 5, 3, 2, 5, 3, 3, 3, 4, 2, 3, 2, 2, 2, 4, 3, 2, 2, 4, …\n",
      "$ Type         \u001b[3m\u001b[90m<chr>\u001b[39m\u001b[23m \"h\", \"h\", \"h\", \"u\", \"h\", \"h\", \"h\", \"h\", \"h\", \"u\", \"t\", \"u…\n",
      "$ Price        \u001b[3m\u001b[90m<int>\u001b[39m\u001b[23m 1650000, 791000, 785000, 755000, 2500000, 3020000, 780000…\n",
      "$ Method       \u001b[3m\u001b[90m<chr>\u001b[39m\u001b[23m \"S\", \"S\", \"S\", \"SP\", \"VB\", \"S\", \"VB\", \"VB\", \"PI\", \"S\", \"P…\n",
      "$ SellerG      \u001b[3m\u001b[90m<chr>\u001b[39m\u001b[23m \"Nelson\", \"Ray\", \"RT\", \"Buxton\", \"RT\", \"Hooper\", \"hocking…\n",
      "$ Distance     \u001b[3m\u001b[90m<dbl>\u001b[39m\u001b[23m 5.2, 11.2, 8.4, 10.7, 7.5, 7.5, 13.9, 11.2, 12.8, 11.8, 1…\n",
      "$ Postcode     \u001b[3m\u001b[90m<int>\u001b[39m\u001b[23m 3056, 3073, 3015, 3187, 3123, 3123, 3165, 3127, 3033, 312…\n",
      "$ Bedroom2     \u001b[3m\u001b[90m<int>\u001b[39m\u001b[23m 3, 4, 3, NA, 5, 3, 3, 3, NA, 2, NA, 2, 2, 2, 4, NA, 2, 2,…\n",
      "$ Bathroom     \u001b[3m\u001b[90m<int>\u001b[39m\u001b[23m 1, 3, 1, NA, 3, 2, 1, 2, NA, 2, NA, 1, 2, 1, 2, NA, 1, 1,…\n",
      "$ Car          \u001b[3m\u001b[90m<int>\u001b[39m\u001b[23m 2, 1, 1, NA, 3, 2, 1, 4, NA, 2, NA, 1, 1, 1, 1, NA, 1, 4,…\n",
      "$ Landsize     \u001b[3m\u001b[90m<int>\u001b[39m\u001b[23m 495, 961, 185, NA, 757, 832, 710, 816, NA, 0, NA, 0, 0, 1…\n",
      "$ BuildingArea \u001b[3m\u001b[90m<int>\u001b[39m\u001b[23m 141, NA, NA, NA, 240, NA, NA, NA, NA, 80, NA, 69, NA, NA,…\n",
      "$ YearBuilt    \u001b[3m\u001b[90m<int>\u001b[39m\u001b[23m 1920, NA, NA, NA, 1925, NA, 1966, NA, NA, 2003, NA, 1970,…\n",
      "$ CouncilArea  \u001b[3m\u001b[90m<chr>\u001b[39m\u001b[23m \"Moreland\", \"Darebin\", \"Hobsons Bay\", \"\", \"Boroondara\", \"…\n",
      "$ data         \u001b[3m\u001b[90m<chr>\u001b[39m\u001b[23m \"train\", \"train\", \"train\", \"train\", \"train\", \"train\", \"tr…\n"
     ]
    }
   ],
   "source": [
    "glimpse(h)"
   ]
  },
  {
   "cell_type": "markdown",
   "id": "f98c36d1",
   "metadata": {},
   "source": [
    "From above I can see many missing values or NAs in my data. Let us see how many NAs are there for each variables. We will use ‘lapply’ function to arrive at those NA values who in list format as shown below."
   ]
  },
  {
   "cell_type": "code",
   "execution_count": 10,
   "id": "703dae04",
   "metadata": {},
   "outputs": [
    {
     "data": {
      "text/html": [
       "<dl>\n",
       "\t<dt>$Suburb</dt>\n",
       "\t\t<dd>0</dd>\n",
       "\t<dt>$Address</dt>\n",
       "\t\t<dd>0</dd>\n",
       "\t<dt>$Rooms</dt>\n",
       "\t\t<dd>0</dd>\n",
       "\t<dt>$Type</dt>\n",
       "\t\t<dd>0</dd>\n",
       "\t<dt>$Price</dt>\n",
       "\t\t<dd>1885</dd>\n",
       "\t<dt>$Method</dt>\n",
       "\t\t<dd>0</dd>\n",
       "\t<dt>$SellerG</dt>\n",
       "\t\t<dd>0</dd>\n",
       "\t<dt>$Distance</dt>\n",
       "\t\t<dd>0</dd>\n",
       "\t<dt>$Postcode</dt>\n",
       "\t\t<dd>0</dd>\n",
       "\t<dt>$Bedroom2</dt>\n",
       "\t\t<dd>1978</dd>\n",
       "\t<dt>$Bathroom</dt>\n",
       "\t\t<dd>1978</dd>\n",
       "\t<dt>$Car</dt>\n",
       "\t\t<dd>1978</dd>\n",
       "\t<dt>$Landsize</dt>\n",
       "\t\t<dd>1985</dd>\n",
       "\t<dt>$BuildingArea</dt>\n",
       "\t\t<dd>5269</dd>\n",
       "\t<dt>$YearBuilt</dt>\n",
       "\t\t<dd>4660</dd>\n",
       "\t<dt>$CouncilArea</dt>\n",
       "\t\t<dd>0</dd>\n",
       "\t<dt>$data</dt>\n",
       "\t\t<dd>0</dd>\n",
       "</dl>\n"
      ],
      "text/latex": [
       "\\begin{description}\n",
       "\\item[\\$Suburb] 0\n",
       "\\item[\\$Address] 0\n",
       "\\item[\\$Rooms] 0\n",
       "\\item[\\$Type] 0\n",
       "\\item[\\$Price] 1885\n",
       "\\item[\\$Method] 0\n",
       "\\item[\\$SellerG] 0\n",
       "\\item[\\$Distance] 0\n",
       "\\item[\\$Postcode] 0\n",
       "\\item[\\$Bedroom2] 1978\n",
       "\\item[\\$Bathroom] 1978\n",
       "\\item[\\$Car] 1978\n",
       "\\item[\\$Landsize] 1985\n",
       "\\item[\\$BuildingArea] 5269\n",
       "\\item[\\$YearBuilt] 4660\n",
       "\\item[\\$CouncilArea] 0\n",
       "\\item[\\$data] 0\n",
       "\\end{description}\n"
      ],
      "text/markdown": [
       "$Suburb\n",
       ":   0\n",
       "$Address\n",
       ":   0\n",
       "$Rooms\n",
       ":   0\n",
       "$Type\n",
       ":   0\n",
       "$Price\n",
       ":   1885\n",
       "$Method\n",
       ":   0\n",
       "$SellerG\n",
       ":   0\n",
       "$Distance\n",
       ":   0\n",
       "$Postcode\n",
       ":   0\n",
       "$Bedroom2\n",
       ":   1978\n",
       "$Bathroom\n",
       ":   1978\n",
       "$Car\n",
       ":   1978\n",
       "$Landsize\n",
       ":   1985\n",
       "$BuildingArea\n",
       ":   5269\n",
       "$YearBuilt\n",
       ":   4660\n",
       "$CouncilArea\n",
       ":   0\n",
       "$data\n",
       ":   0\n",
       "\n",
       "\n"
      ],
      "text/plain": [
       "$Suburb\n",
       "[1] 0\n",
       "\n",
       "$Address\n",
       "[1] 0\n",
       "\n",
       "$Rooms\n",
       "[1] 0\n",
       "\n",
       "$Type\n",
       "[1] 0\n",
       "\n",
       "$Price\n",
       "[1] 1885\n",
       "\n",
       "$Method\n",
       "[1] 0\n",
       "\n",
       "$SellerG\n",
       "[1] 0\n",
       "\n",
       "$Distance\n",
       "[1] 0\n",
       "\n",
       "$Postcode\n",
       "[1] 0\n",
       "\n",
       "$Bedroom2\n",
       "[1] 1978\n",
       "\n",
       "$Bathroom\n",
       "[1] 1978\n",
       "\n",
       "$Car\n",
       "[1] 1978\n",
       "\n",
       "$Landsize\n",
       "[1] 1985\n",
       "\n",
       "$BuildingArea\n",
       "[1] 5269\n",
       "\n",
       "$YearBuilt\n",
       "[1] 4660\n",
       "\n",
       "$CouncilArea\n",
       "[1] 0\n",
       "\n",
       "$data\n",
       "[1] 0\n"
      ]
     },
     "metadata": {},
     "output_type": "display_data"
    }
   ],
   "source": [
    "lapply(h,function(x) sum(is.na(x)))"
   ]
  },
  {
   "cell_type": "markdown",
   "id": "9364f27d",
   "metadata": {},
   "source": [
    "From above we can see that we have missing values in columns like Price(1885), Bedroom2 (1978), Bathroom (1978), Car(1978), Landsize(1985), BuildingArea (5269) & YearBuilt(4660).\n",
    "\n",
    "We know that we purposely add Price column in our test data set & add NAs to that column. We are not going to impute for Price column & will go ahead imputing NAs for remaining columns with central tendency of train data like mean or median. We will be doing this later as we progress"
   ]
  },
  {
   "cell_type": "markdown",
   "id": "30d4661f",
   "metadata": {},
   "source": [
    "### Transforming character variables into Dummy Variables-\n",
    "\n",
    "Since categorical variables are known to hide and mask lots of interesting information in a data set.So It’s crucial we’d hunt down those categorical variables in the data set, and dig out as much information as you can. One way is to convert the same into dummy variables.\n",
    "\n",
    "Let us analyse our first categorical variable ‘Suburb’, the frequency table of which gives the following result. Basically its is nothing but categorical tabulation of data with the variable and its frequency as shown below. For example there are 52 observations which has Abbotsford as Suburb."
   ]
  },
  {
   "cell_type": "code",
   "execution_count": 11,
   "id": "dccf5e31",
   "metadata": {},
   "outputs": [
    {
     "data": {
      "text/plain": [
       "\n",
       "        Abbotsford         Aberfeldie       Airport West        Albert Park \n",
       "                52                 29                 65                 44 \n",
       "            Albion         Alphington             Altona       Altona North \n",
       "                26                 29                 51                 71 \n",
       "          Armadale         Ascot Vale          Ashburton            Ashwood \n",
       "                71                103                 62                 45 \n",
       "  Avondale Heights          Balaclava             Balwyn       Balwyn North \n",
       "                69                 18                112                135 \n",
       "         Bellfield          Bentleigh     Bentleigh East           Box Hill \n",
       "                13                127                241                 44 \n",
       "         Braybrook           Brighton      Brighton East           Brooklyn \n",
       "                38                150                130                 15 \n",
       "         Brunswick     Brunswick East     Brunswick West            Bulleen \n",
       "               164                 63                 88                 66 \n",
       "           Burnley            Burwood         Camberwell      Campbellfield \n",
       "                 5                 77                118                  6 \n",
       "        Canterbury            Carlton      Carlton North           Carnegie \n",
       "                39                 38                 32                120 \n",
       "         Caulfield     Caulfield East    Caulfield North    Caulfield South \n",
       "                 9                 10                 28                 37 \n",
       "         Chadstone       Clifton Hill             Coburg       Coburg North \n",
       "                39                 40                138                 57 \n",
       "       Collingwood           Cremorne          Docklands          Doncaster \n",
       "                48                 20                  5                102 \n",
       "         Eaglemont     East Melbourne        Elsternwick             Elwood \n",
       "                19                 19                 47                 96 \n",
       "          Essendon     Essendon North      Essendon West          Fairfield \n",
       "               157                 13                 21                 36 \n",
       "           Fawkner            Fitzroy      Fitzroy North         Flemington \n",
       "                70                 37                 65                 41 \n",
       "         Footscray         Gardenvale        Glen Huntly          Glen Iris \n",
       "               103                  6                 25                152 \n",
       "           Glenroy          Gowanbrae           Hadfield            Hampton \n",
       "               150                 21                 51                111 \n",
       "      Hampton East           Hawthorn      Hawthorn East         Heidelberg \n",
       "                36                132                 90                 36 \n",
       "Heidelberg Heights    Heidelberg West         Hughesdale            Ivanhoe \n",
       "                58                 55                 30                 81 \n",
       "      Ivanhoe East             Jacana             Kealba        Keilor East \n",
       "                19                 17                 17                 89 \n",
       "       Keilor Park         Kensington                Kew           Kew East \n",
       "                16                 92                148                 41 \n",
       "         Kingsbury         Kingsville            Kooyong          Maidstone \n",
       "                13                 27                  3                 64 \n",
       "           Malvern       Malvern East        Maribyrnong          Melbourne \n",
       "                58                114                100                 78 \n",
       "       Middle Park        Mont Albert       Moonee Ponds          Moorabbin \n",
       "                20                 35                107                 59 \n",
       "       Murrumbeena            Newport            Niddrie    North Melbourne \n",
       "                57                101                 63                 55 \n",
       "         Northcote           Oak Park           Oakleigh     Oakleigh South \n",
       "               145                 49                 36                 55 \n",
       "            Ormond          Parkville        Pascoe Vale     Port Melbourne \n",
       "                67                 28                129                126 \n",
       "           Prahran            Preston       Princes Hill          Reservoir \n",
       "                90                189                  3                337 \n",
       "          Richmond          Ripponlea            Rosanna           Seaholme \n",
       "               215                  9                 62                  7 \n",
       "            Seddon   South Kingsville    South Melbourne        South Yarra \n",
       "                44                 16                 59                164 \n",
       "         Southbank          Spotswood           St Kilda         Strathmore \n",
       "                32                 24                169                 67 \n",
       "Strathmore Heights           Sunshine     Sunshine North      Sunshine West \n",
       "                 9                 92                 68                 80 \n",
       "      Surrey Hills  Templestowe Lower          Thornbury             Toorak \n",
       "                90                 86                107                 92 \n",
       "        Travancore           Viewbank           Watsonia     West Footscray \n",
       "                 6                 34                 35                 68 \n",
       "    West Melbourne       Williamstown Williamstown North            Windsor \n",
       "                20                 77                 14                 45 \n",
       "         Yallambie         Yarraville \n",
       "                25                111 "
      ]
     },
     "metadata": {},
     "output_type": "display_data"
    }
   ],
   "source": [
    "table(h$Suburb)"
   ]
  },
  {
   "cell_type": "markdown",
   "id": "e58d0d52",
   "metadata": {},
   "source": [
    "### Writing a Function to create Dummy-\n",
    "\n",
    "We will write a function which will be applied to all categorical variables so as to convert them into dummies."
   ]
  },
  {
   "cell_type": "code",
   "execution_count": 12,
   "id": "2f5896c7",
   "metadata": {},
   "outputs": [],
   "source": [
    "CreateDummies=function(data,var,freq_cutoff=0){\n",
    "t=table(data[,var])\n",
    "t=t[t>freq_cutoff]\n",
    "t=sort(t)\n",
    "categories=names(t)[-1]\n",
    "for( cat in categories){\n",
    "name=paste(var,cat,sep=\"_\")\n",
    "name=gsub(\" \",\"\",name)\n",
    "name=gsub(\"-\",\"_\",name)\n",
    "name=gsub(\"\\\\?\",\"Q\",name)\n",
    "name=gsub(\"<\",\"LT_\",name)\n",
    "name=gsub(\"\\\\+\",\"\",name)\n",
    "name=gsub(\"\\\\/\",\"_\",name)\n",
    "name=gsub(\">\",\"GT_\",name)\n",
    "name=gsub(\"=\",\"EQ_\",name)\n",
    "name=gsub(\",\",\"\",name)\n",
    "data[,name]=as.numeric(data[,var]==cat)\n",
    "}\n",
    "data[,var]=NULL\n",
    "return(data)\n",
    "}"
   ]
  },
  {
   "cell_type": "markdown",
   "id": "f18d95ad",
   "metadata": {},
   "source": [
    "Let us have a look at our categorical variables by writing following lines of codes"
   ]
  },
  {
   "cell_type": "code",
   "execution_count": 13,
   "id": "1ab54add",
   "metadata": {},
   "outputs": [
    {
     "data": {
      "text/html": [
       "<style>\n",
       ".list-inline {list-style: none; margin:0; padding: 0}\n",
       ".list-inline>li {display: inline-block}\n",
       ".list-inline>li:not(:last-child)::after {content: \"\\00b7\"; padding: 0 .5ex}\n",
       "</style>\n",
       "<ol class=list-inline><li>'Suburb'</li><li>'Address'</li><li>'Type'</li><li>'Method'</li><li>'SellerG'</li><li>'CouncilArea'</li><li>'data'</li></ol>\n"
      ],
      "text/latex": [
       "\\begin{enumerate*}\n",
       "\\item 'Suburb'\n",
       "\\item 'Address'\n",
       "\\item 'Type'\n",
       "\\item 'Method'\n",
       "\\item 'SellerG'\n",
       "\\item 'CouncilArea'\n",
       "\\item 'data'\n",
       "\\end{enumerate*}\n"
      ],
      "text/markdown": [
       "1. 'Suburb'\n",
       "2. 'Address'\n",
       "3. 'Type'\n",
       "4. 'Method'\n",
       "5. 'SellerG'\n",
       "6. 'CouncilArea'\n",
       "7. 'data'\n",
       "\n",
       "\n"
      ],
      "text/plain": [
       "[1] \"Suburb\"      \"Address\"     \"Type\"        \"Method\"      \"SellerG\"    \n",
       "[6] \"CouncilArea\" \"data\"       "
      ]
     },
     "metadata": {},
     "output_type": "display_data"
    }
   ],
   "source": [
    "names(h)[sapply(h,function(x) is.character(x))]"
   ]
  },
  {
   "cell_type": "markdown",
   "id": "e3ff6ac3",
   "metadata": {},
   "source": [
    "Now we will check for High-Cardinality in the categorical variables i.e we will check for variables with many distinct values. We will discard those variables from our modelling. Because including these attributes by standard dummy encoding increases the dimensionality of the data to such an extent that either the classification technique is unable to process them or if one would use some regularized linear technique that is able to cope with huge dimensions, it leads to a model with thousands or even millions of features, thereby losing the often required comprehensibility aspect."
   ]
  },
  {
   "cell_type": "markdown",
   "id": "823421fb",
   "metadata": {},
   "source": [
    "Checking High-Cardinality in our categorical variables-"
   ]
  },
  {
   "cell_type": "code",
   "execution_count": 14,
   "id": "99c7fddb",
   "metadata": {},
   "outputs": [
    {
     "data": {
      "text/html": [
       "142"
      ],
      "text/latex": [
       "142"
      ],
      "text/markdown": [
       "142"
      ],
      "text/plain": [
       "[1] 142"
      ]
     },
     "metadata": {},
     "output_type": "display_data"
    }
   ],
   "source": [
    "length(unique(h$Suburb))"
   ]
  },
  {
   "cell_type": "code",
   "execution_count": 15,
   "id": "232ffca1",
   "metadata": {},
   "outputs": [
    {
     "data": {
      "text/html": [
       "9324"
      ],
      "text/latex": [
       "9324"
      ],
      "text/markdown": [
       "9324"
      ],
      "text/plain": [
       "[1] 9324"
      ]
     },
     "metadata": {},
     "output_type": "display_data"
    }
   ],
   "source": [
    "length(unique(h$Address))"
   ]
  },
  {
   "cell_type": "code",
   "execution_count": 16,
   "id": "d6d6670a",
   "metadata": {},
   "outputs": [
    {
     "data": {
      "text/html": [
       "3"
      ],
      "text/latex": [
       "3"
      ],
      "text/markdown": [
       "3"
      ],
      "text/plain": [
       "[1] 3"
      ]
     },
     "metadata": {},
     "output_type": "display_data"
    }
   ],
   "source": [
    "length(unique(h$Type))"
   ]
  },
  {
   "cell_type": "code",
   "execution_count": 17,
   "id": "11eb6804",
   "metadata": {},
   "outputs": [
    {
     "data": {
      "text/html": [
       "198"
      ],
      "text/latex": [
       "198"
      ],
      "text/markdown": [
       "198"
      ],
      "text/plain": [
       "[1] 198"
      ]
     },
     "metadata": {},
     "output_type": "display_data"
    }
   ],
   "source": [
    "length(unique(h$SellerG))"
   ]
  },
  {
   "cell_type": "code",
   "execution_count": 18,
   "id": "d3902429",
   "metadata": {},
   "outputs": [
    {
     "data": {
      "text/html": [
       "20"
      ],
      "text/latex": [
       "20"
      ],
      "text/markdown": [
       "20"
      ],
      "text/plain": [
       "[1] 20"
      ]
     },
     "metadata": {},
     "output_type": "display_data"
    }
   ],
   "source": [
    "length(unique(h$CouncilArea))"
   ]
  },
  {
   "cell_type": "code",
   "execution_count": 19,
   "id": "ec396d6f",
   "metadata": {},
   "outputs": [],
   "source": [
    "h=h %>% select(-Address)"
   ]
  },
  {
   "cell_type": "markdown",
   "id": "fd9f5a57",
   "metadata": {},
   "source": [
    "Let us make dummies for rest of the variables by using for loop."
   ]
  },
  {
   "cell_type": "code",
   "execution_count": 20,
   "id": "cb3c67ce",
   "metadata": {},
   "outputs": [],
   "source": [
    "cat_cols=c(\"Suburb\",\"Type\",\"Method\",\"SellerG\",\"CouncilArea\")\n",
    "\n",
    "for (cat in cat_cols){\n",
    "  h=CreateDummies(h,cat,100)\n",
    "}"
   ]
  },
  {
   "cell_type": "markdown",
   "id": "7d8590f2",
   "metadata": {},
   "source": [
    "Now This dummy creation has increased number of variables to 85 as we can glimpse the same as shown below."
   ]
  },
  {
   "cell_type": "code",
   "execution_count": 21,
   "id": "8a80c034",
   "metadata": {},
   "outputs": [
    {
     "name": "stdout",
     "output_type": "stream",
     "text": [
      "Rows: 9,421\n",
      "Columns: 85\n",
      "$ Rooms                    \u001b[3m\u001b[90m<int>\u001b[39m\u001b[23m 3, 5, 3, 2, 5, 3, 3, 3, 4, 2, 3, 2, 2, 2, 4, …\n",
      "$ Price                    \u001b[3m\u001b[90m<int>\u001b[39m\u001b[23m 1650000, 791000, 785000, 755000, 2500000, 302…\n",
      "$ Distance                 \u001b[3m\u001b[90m<dbl>\u001b[39m\u001b[23m 5.2, 11.2, 8.4, 10.7, 7.5, 7.5, 13.9, 11.2, 1…\n",
      "$ Postcode                 \u001b[3m\u001b[90m<int>\u001b[39m\u001b[23m 3056, 3073, 3015, 3187, 3123, 3123, 3165, 312…\n",
      "$ Bedroom2                 \u001b[3m\u001b[90m<int>\u001b[39m\u001b[23m 3, 4, 3, NA, 5, 3, 3, 3, NA, 2, NA, 2, 2, 2, …\n",
      "$ Bathroom                 \u001b[3m\u001b[90m<int>\u001b[39m\u001b[23m 1, 3, 1, NA, 3, 2, 1, 2, NA, 2, NA, 1, 2, 1, …\n",
      "$ Car                      \u001b[3m\u001b[90m<int>\u001b[39m\u001b[23m 2, 1, 1, NA, 3, 2, 1, 4, NA, 2, NA, 1, 1, 1, …\n",
      "$ Landsize                 \u001b[3m\u001b[90m<int>\u001b[39m\u001b[23m 495, 961, 185, NA, 757, 832, 710, 816, NA, 0,…\n",
      "$ BuildingArea             \u001b[3m\u001b[90m<int>\u001b[39m\u001b[23m 141, NA, NA, NA, 240, NA, NA, NA, NA, 80, NA,…\n",
      "$ YearBuilt                \u001b[3m\u001b[90m<int>\u001b[39m\u001b[23m 1920, NA, NA, NA, 1925, NA, 1966, NA, NA, 200…\n",
      "$ data                     \u001b[3m\u001b[90m<chr>\u001b[39m\u001b[23m \"train\", \"train\", \"train\", \"train\", \"train\", …\n",
      "$ Suburb_Doncaster         \u001b[3m\u001b[90m<dbl>\u001b[39m\u001b[23m 0, 0, 0, 0, 0, 0, 0, 0, 0, 0, 0, 0, 0, 0, 0, …\n",
      "$ Suburb_AscotVale         \u001b[3m\u001b[90m<dbl>\u001b[39m\u001b[23m 0, 0, 0, 0, 0, 0, 0, 0, 0, 0, 0, 0, 0, 0, 0, …\n",
      "$ Suburb_Footscray         \u001b[3m\u001b[90m<dbl>\u001b[39m\u001b[23m 0, 0, 0, 0, 0, 0, 0, 0, 0, 0, 0, 0, 0, 0, 0, …\n",
      "$ Suburb_MooneePonds       \u001b[3m\u001b[90m<dbl>\u001b[39m\u001b[23m 0, 0, 0, 0, 0, 0, 0, 0, 0, 0, 0, 0, 0, 0, 0, …\n",
      "$ Suburb_Thornbury         \u001b[3m\u001b[90m<dbl>\u001b[39m\u001b[23m 0, 0, 0, 0, 0, 0, 0, 0, 0, 0, 0, 0, 0, 0, 0, …\n",
      "$ Suburb_Hampton           \u001b[3m\u001b[90m<dbl>\u001b[39m\u001b[23m 0, 0, 0, 0, 0, 0, 0, 0, 0, 0, 0, 0, 0, 0, 0, …\n",
      "$ Suburb_Yarraville        \u001b[3m\u001b[90m<dbl>\u001b[39m\u001b[23m 0, 0, 0, 0, 0, 0, 0, 0, 0, 0, 0, 0, 0, 0, 0, …\n",
      "$ Suburb_Balwyn            \u001b[3m\u001b[90m<dbl>\u001b[39m\u001b[23m 0, 0, 0, 0, 0, 0, 0, 0, 0, 0, 0, 0, 0, 0, 0, …\n",
      "$ Suburb_MalvernEast       \u001b[3m\u001b[90m<dbl>\u001b[39m\u001b[23m 0, 0, 0, 0, 0, 0, 0, 0, 0, 0, 0, 0, 0, 0, 0, …\n",
      "$ Suburb_Camberwell        \u001b[3m\u001b[90m<dbl>\u001b[39m\u001b[23m 0, 0, 0, 0, 0, 0, 0, 0, 0, 0, 0, 0, 0, 0, 0, …\n",
      "$ Suburb_Carnegie          \u001b[3m\u001b[90m<dbl>\u001b[39m\u001b[23m 0, 0, 0, 0, 0, 0, 0, 0, 0, 0, 0, 1, 0, 0, 0, …\n",
      "$ Suburb_PortMelbourne     \u001b[3m\u001b[90m<dbl>\u001b[39m\u001b[23m 0, 0, 0, 0, 0, 0, 0, 0, 0, 0, 0, 0, 0, 0, 0, …\n",
      "$ Suburb_Bentleigh         \u001b[3m\u001b[90m<dbl>\u001b[39m\u001b[23m 0, 0, 0, 0, 0, 0, 0, 0, 0, 0, 0, 0, 0, 0, 0, …\n",
      "$ Suburb_PascoeVale        \u001b[3m\u001b[90m<dbl>\u001b[39m\u001b[23m 0, 0, 0, 0, 0, 0, 0, 0, 0, 0, 0, 0, 0, 0, 0, …\n",
      "$ Suburb_BrightonEast      \u001b[3m\u001b[90m<dbl>\u001b[39m\u001b[23m 0, 0, 0, 1, 0, 0, 0, 0, 0, 0, 0, 0, 0, 0, 0, …\n",
      "$ Suburb_Hawthorn          \u001b[3m\u001b[90m<dbl>\u001b[39m\u001b[23m 0, 0, 0, 0, 0, 0, 0, 0, 0, 0, 0, 0, 0, 0, 0, …\n",
      "$ Suburb_BalwynNorth       \u001b[3m\u001b[90m<dbl>\u001b[39m\u001b[23m 0, 0, 0, 0, 0, 0, 0, 0, 0, 0, 0, 0, 0, 0, 0, …\n",
      "$ Suburb_Coburg            \u001b[3m\u001b[90m<dbl>\u001b[39m\u001b[23m 0, 0, 0, 0, 0, 0, 0, 0, 0, 0, 0, 0, 0, 0, 0, …\n",
      "$ Suburb_Northcote         \u001b[3m\u001b[90m<dbl>\u001b[39m\u001b[23m 0, 0, 0, 0, 0, 0, 0, 0, 0, 0, 0, 0, 0, 0, 0, …\n",
      "$ Suburb_Kew               \u001b[3m\u001b[90m<dbl>\u001b[39m\u001b[23m 0, 0, 0, 0, 0, 0, 0, 0, 0, 0, 0, 0, 0, 0, 0, …\n",
      "$ Suburb_Brighton          \u001b[3m\u001b[90m<dbl>\u001b[39m\u001b[23m 0, 0, 0, 0, 0, 0, 0, 0, 0, 0, 0, 0, 0, 0, 0, …\n",
      "$ Suburb_Glenroy           \u001b[3m\u001b[90m<dbl>\u001b[39m\u001b[23m 0, 0, 0, 0, 0, 0, 0, 0, 0, 0, 0, 0, 0, 0, 0, …\n",
      "$ Suburb_GlenIris          \u001b[3m\u001b[90m<dbl>\u001b[39m\u001b[23m 0, 0, 0, 0, 0, 0, 0, 0, 0, 0, 0, 0, 0, 0, 0, …\n",
      "$ Suburb_Essendon          \u001b[3m\u001b[90m<dbl>\u001b[39m\u001b[23m 0, 0, 0, 0, 0, 0, 0, 0, 0, 0, 0, 0, 0, 0, 0, …\n",
      "$ Suburb_Brunswick         \u001b[3m\u001b[90m<dbl>\u001b[39m\u001b[23m 1, 0, 0, 0, 0, 0, 0, 0, 0, 0, 0, 0, 0, 1, 0, …\n",
      "$ Suburb_SouthYarra        \u001b[3m\u001b[90m<dbl>\u001b[39m\u001b[23m 0, 0, 0, 0, 0, 0, 0, 0, 0, 0, 0, 0, 1, 0, 0, …\n",
      "$ Suburb_StKilda           \u001b[3m\u001b[90m<dbl>\u001b[39m\u001b[23m 0, 0, 0, 0, 0, 0, 0, 0, 0, 0, 0, 0, 0, 0, 0, …\n",
      "$ Suburb_Preston           \u001b[3m\u001b[90m<dbl>\u001b[39m\u001b[23m 0, 0, 0, 0, 0, 0, 0, 0, 0, 0, 0, 0, 0, 0, 0, …\n",
      "$ Suburb_Richmond          \u001b[3m\u001b[90m<dbl>\u001b[39m\u001b[23m 0, 0, 0, 0, 0, 0, 0, 0, 0, 0, 0, 0, 0, 0, 0, …\n",
      "$ Suburb_BentleighEast     \u001b[3m\u001b[90m<dbl>\u001b[39m\u001b[23m 0, 0, 0, 0, 0, 0, 1, 0, 0, 0, 0, 0, 0, 0, 0, …\n",
      "$ Suburb_Reservoir         \u001b[3m\u001b[90m<dbl>\u001b[39m\u001b[23m 0, 1, 0, 0, 0, 0, 0, 0, 0, 0, 0, 0, 0, 0, 0, …\n",
      "$ Type_u                   \u001b[3m\u001b[90m<dbl>\u001b[39m\u001b[23m 0, 0, 0, 1, 0, 0, 0, 0, 0, 1, 0, 1, 1, 0, 0, …\n",
      "$ Type_h                   \u001b[3m\u001b[90m<dbl>\u001b[39m\u001b[23m 1, 1, 1, 0, 1, 1, 1, 1, 1, 0, 0, 0, 0, 1, 1, …\n",
      "$ Method_SP                \u001b[3m\u001b[90m<dbl>\u001b[39m\u001b[23m 0, 0, 0, 1, 0, 0, 0, 0, 0, 0, 0, 0, 0, 0, 0, …\n",
      "$ Method_PI                \u001b[3m\u001b[90m<dbl>\u001b[39m\u001b[23m 0, 0, 0, 0, 0, 0, 0, 0, 1, 0, 1, 0, 0, 0, 0, …\n",
      "$ Method_S                 \u001b[3m\u001b[90m<dbl>\u001b[39m\u001b[23m 1, 1, 1, 0, 0, 1, 0, 0, 0, 1, 0, 1, 1, 1, 1, …\n",
      "$ SellerG_Kay              \u001b[3m\u001b[90m<dbl>\u001b[39m\u001b[23m 0, 0, 0, 0, 0, 0, 0, 0, 0, 0, 0, 0, 0, 0, 0, …\n",
      "$ SellerG_Hodges           \u001b[3m\u001b[90m<dbl>\u001b[39m\u001b[23m 0, 0, 0, 0, 0, 0, 0, 0, 0, 0, 0, 0, 0, 0, 0, …\n",
      "$ SellerG_McGrath          \u001b[3m\u001b[90m<dbl>\u001b[39m\u001b[23m 0, 0, 0, 0, 0, 0, 0, 0, 0, 0, 0, 0, 0, 0, 0, …\n",
      "$ SellerG_Noel             \u001b[3m\u001b[90m<dbl>\u001b[39m\u001b[23m 0, 0, 0, 0, 0, 0, 0, 0, 0, 0, 0, 0, 0, 0, 0, …\n",
      "$ SellerG_Gary             \u001b[3m\u001b[90m<dbl>\u001b[39m\u001b[23m 0, 0, 0, 0, 0, 0, 0, 0, 0, 0, 0, 0, 0, 0, 0, …\n",
      "$ SellerG_Jas              \u001b[3m\u001b[90m<dbl>\u001b[39m\u001b[23m 0, 0, 0, 0, 0, 0, 0, 0, 0, 0, 0, 0, 0, 0, 0, …\n",
      "$ SellerG_Miles            \u001b[3m\u001b[90m<dbl>\u001b[39m\u001b[23m 0, 0, 0, 0, 0, 0, 0, 0, 0, 0, 0, 0, 0, 0, 0, …\n",
      "$ SellerG_Greg             \u001b[3m\u001b[90m<dbl>\u001b[39m\u001b[23m 0, 0, 0, 0, 0, 0, 0, 0, 0, 0, 0, 0, 0, 0, 0, …\n",
      "$ SellerG_Sweeney          \u001b[3m\u001b[90m<dbl>\u001b[39m\u001b[23m 0, 0, 0, 0, 0, 0, 0, 0, 0, 0, 0, 0, 0, 0, 0, …\n",
      "$ SellerG_RT               \u001b[3m\u001b[90m<dbl>\u001b[39m\u001b[23m 0, 0, 1, 0, 1, 0, 0, 0, 0, 0, 0, 0, 0, 0, 0, …\n",
      "$ SellerG_Fletchers        \u001b[3m\u001b[90m<dbl>\u001b[39m\u001b[23m 0, 0, 0, 0, 0, 0, 0, 1, 0, 0, 0, 0, 0, 0, 0, …\n",
      "$ SellerG_Woodards         \u001b[3m\u001b[90m<dbl>\u001b[39m\u001b[23m 0, 0, 0, 0, 0, 0, 0, 0, 0, 0, 0, 0, 0, 0, 0, …\n",
      "$ SellerG_Brad             \u001b[3m\u001b[90m<dbl>\u001b[39m\u001b[23m 0, 0, 0, 0, 0, 0, 0, 0, 0, 0, 0, 0, 0, 0, 0, …\n",
      "$ SellerG_Biggin           \u001b[3m\u001b[90m<dbl>\u001b[39m\u001b[23m 0, 0, 0, 0, 0, 0, 0, 0, 0, 0, 0, 0, 1, 0, 0, …\n",
      "$ SellerG_Ray              \u001b[3m\u001b[90m<dbl>\u001b[39m\u001b[23m 0, 1, 0, 0, 0, 0, 0, 0, 0, 0, 0, 0, 0, 0, 0, …\n",
      "$ SellerG_Buxton           \u001b[3m\u001b[90m<dbl>\u001b[39m\u001b[23m 0, 0, 0, 1, 0, 0, 0, 0, 0, 0, 0, 0, 0, 0, 0, …\n",
      "$ SellerG_Marshall         \u001b[3m\u001b[90m<dbl>\u001b[39m\u001b[23m 0, 0, 0, 0, 0, 0, 0, 0, 0, 0, 0, 1, 0, 0, 0, …\n",
      "$ SellerG_Barry            \u001b[3m\u001b[90m<dbl>\u001b[39m\u001b[23m 0, 0, 0, 0, 0, 0, 0, 0, 0, 0, 0, 0, 0, 0, 0, …\n",
      "$ SellerG_hockingstuart    \u001b[3m\u001b[90m<dbl>\u001b[39m\u001b[23m 0, 0, 0, 0, 0, 0, 1, 0, 0, 0, 0, 0, 0, 0, 0, …\n",
      "$ SellerG_Jellis           \u001b[3m\u001b[90m<dbl>\u001b[39m\u001b[23m 0, 0, 0, 0, 0, 0, 0, 0, 0, 0, 1, 0, 0, 0, 0, …\n",
      "$ SellerG_Nelson           \u001b[3m\u001b[90m<dbl>\u001b[39m\u001b[23m 1, 0, 0, 0, 0, 0, 0, 0, 1, 0, 0, 0, 0, 1, 0, …\n",
      "$ CouncilArea_Whitehorse   \u001b[3m\u001b[90m<dbl>\u001b[39m\u001b[23m 0, 0, 0, 0, 0, 0, 0, 0, 0, 1, 0, 0, 0, 0, 0, …\n",
      "$ CouncilArea_Manningham   \u001b[3m\u001b[90m<dbl>\u001b[39m\u001b[23m 0, 0, 0, 0, 0, 0, 0, 0, 0, 0, 0, 0, 0, 0, 0, …\n",
      "$ CouncilArea_Brimbank     \u001b[3m\u001b[90m<dbl>\u001b[39m\u001b[23m 0, 0, 0, 0, 0, 0, 0, 0, 0, 0, 0, 0, 0, 0, 0, …\n",
      "$ CouncilArea_HobsonsBay   \u001b[3m\u001b[90m<dbl>\u001b[39m\u001b[23m 0, 0, 1, 0, 0, 0, 0, 0, 0, 0, 0, 0, 0, 0, 0, …\n",
      "$ CouncilArea_Bayside      \u001b[3m\u001b[90m<dbl>\u001b[39m\u001b[23m 0, 0, 0, 0, 0, 0, 0, 0, 0, 0, 0, 0, 0, 0, 0, …\n",
      "$ CouncilArea_Melbourne    \u001b[3m\u001b[90m<dbl>\u001b[39m\u001b[23m 0, 0, 0, 0, 0, 0, 0, 0, 0, 0, 0, 0, 0, 0, 0, …\n",
      "$ CouncilArea_Banyule      \u001b[3m\u001b[90m<dbl>\u001b[39m\u001b[23m 0, 0, 0, 0, 0, 0, 0, 0, 0, 0, 0, 0, 0, 0, 0, …\n",
      "$ CouncilArea_PortPhillip  \u001b[3m\u001b[90m<dbl>\u001b[39m\u001b[23m 0, 0, 0, 0, 0, 0, 0, 0, 0, 0, 0, 0, 0, 0, 0, …\n",
      "$ CouncilArea_Yarra        \u001b[3m\u001b[90m<dbl>\u001b[39m\u001b[23m 0, 0, 0, 0, 0, 0, 0, 0, 0, 0, 0, 0, 0, 0, 0, …\n",
      "$ CouncilArea_Maribyrnong  \u001b[3m\u001b[90m<dbl>\u001b[39m\u001b[23m 0, 0, 0, 0, 0, 0, 0, 0, 0, 0, 0, 0, 0, 0, 0, …\n",
      "$ CouncilArea_Stonnington  \u001b[3m\u001b[90m<dbl>\u001b[39m\u001b[23m 0, 0, 0, 0, 0, 0, 0, 0, 0, 0, 0, 0, 1, 0, 0, …\n",
      "$ CouncilArea_GlenEira     \u001b[3m\u001b[90m<dbl>\u001b[39m\u001b[23m 0, 0, 0, 0, 0, 0, 1, 0, 0, 0, 0, 1, 0, 0, 0, …\n",
      "$ CouncilArea_Darebin      \u001b[3m\u001b[90m<dbl>\u001b[39m\u001b[23m 0, 1, 0, 0, 0, 0, 0, 0, 0, 0, 0, 0, 0, 0, 0, …\n",
      "$ CouncilArea_MooneeValley \u001b[3m\u001b[90m<dbl>\u001b[39m\u001b[23m 0, 0, 0, 0, 0, 0, 0, 0, 0, 0, 0, 0, 0, 0, 0, …\n",
      "$ CouncilArea_Moreland     \u001b[3m\u001b[90m<dbl>\u001b[39m\u001b[23m 1, 0, 0, 0, 0, 0, 0, 0, 0, 0, 0, 0, 0, 1, 1, …\n",
      "$ CouncilArea_Boroondara   \u001b[3m\u001b[90m<dbl>\u001b[39m\u001b[23m 0, 0, 0, 0, 1, 1, 0, 1, 0, 0, 0, 0, 0, 0, 0, …\n",
      "$ CouncilArea_             \u001b[3m\u001b[90m<dbl>\u001b[39m\u001b[23m 0, 0, 0, 1, 0, 0, 0, 0, 1, 0, 1, 0, 0, 0, 0, …\n"
     ]
    }
   ],
   "source": [
    "glimpse(h)"
   ]
  },
  {
   "cell_type": "markdown",
   "id": "7abafa29",
   "metadata": {},
   "source": [
    "### Imputing Missing Values (NAs)-\n",
    "\n",
    "We have seen earlier that our data has missing values & we need to impute it with mean of train data.Also we will exclude such imputations in variables data & Price. Shared below For loop demonstrate the same"
   ]
  },
  {
   "cell_type": "code",
   "execution_count": 22,
   "id": "f5914a46",
   "metadata": {},
   "outputs": [],
   "source": [
    "for(col in names(h)){\n",
    "if(sum(is.na(h[,col]))>0 & !(col %in% c(\"data\",\"Price\"))){\n",
    "h[is.na(h[,col]),col]=mean(h[h$data=='train',col],na.rm=T)\n",
    "}\n",
    "}"
   ]
  },
  {
   "cell_type": "markdown",
   "id": "0ca5e0ea",
   "metadata": {},
   "source": [
    "Let us see if there are still any NAs in our data using lapply function again."
   ]
  },
  {
   "cell_type": "code",
   "execution_count": 23,
   "id": "0145deeb",
   "metadata": {
    "scrolled": false
   },
   "outputs": [
    {
     "data": {
      "text/html": [
       "<dl>\n",
       "\t<dt>$Rooms</dt>\n",
       "\t\t<dd>0</dd>\n",
       "\t<dt>$Price</dt>\n",
       "\t\t<dd>1885</dd>\n",
       "\t<dt>$Distance</dt>\n",
       "\t\t<dd>0</dd>\n",
       "\t<dt>$Postcode</dt>\n",
       "\t\t<dd>0</dd>\n",
       "\t<dt>$Bedroom2</dt>\n",
       "\t\t<dd>0</dd>\n",
       "\t<dt>$Bathroom</dt>\n",
       "\t\t<dd>0</dd>\n",
       "\t<dt>$Car</dt>\n",
       "\t\t<dd>0</dd>\n",
       "\t<dt>$Landsize</dt>\n",
       "\t\t<dd>0</dd>\n",
       "\t<dt>$BuildingArea</dt>\n",
       "\t\t<dd>0</dd>\n",
       "\t<dt>$YearBuilt</dt>\n",
       "\t\t<dd>0</dd>\n",
       "\t<dt>$data</dt>\n",
       "\t\t<dd>0</dd>\n",
       "\t<dt>$Suburb_Doncaster</dt>\n",
       "\t\t<dd>0</dd>\n",
       "\t<dt>$Suburb_AscotVale</dt>\n",
       "\t\t<dd>0</dd>\n",
       "\t<dt>$Suburb_Footscray</dt>\n",
       "\t\t<dd>0</dd>\n",
       "\t<dt>$Suburb_MooneePonds</dt>\n",
       "\t\t<dd>0</dd>\n",
       "\t<dt>$Suburb_Thornbury</dt>\n",
       "\t\t<dd>0</dd>\n",
       "\t<dt>$Suburb_Hampton</dt>\n",
       "\t\t<dd>0</dd>\n",
       "\t<dt>$Suburb_Yarraville</dt>\n",
       "\t\t<dd>0</dd>\n",
       "\t<dt>$Suburb_Balwyn</dt>\n",
       "\t\t<dd>0</dd>\n",
       "\t<dt>$Suburb_MalvernEast</dt>\n",
       "\t\t<dd>0</dd>\n",
       "\t<dt>$Suburb_Camberwell</dt>\n",
       "\t\t<dd>0</dd>\n",
       "\t<dt>$Suburb_Carnegie</dt>\n",
       "\t\t<dd>0</dd>\n",
       "\t<dt>$Suburb_PortMelbourne</dt>\n",
       "\t\t<dd>0</dd>\n",
       "\t<dt>$Suburb_Bentleigh</dt>\n",
       "\t\t<dd>0</dd>\n",
       "\t<dt>$Suburb_PascoeVale</dt>\n",
       "\t\t<dd>0</dd>\n",
       "\t<dt>$Suburb_BrightonEast</dt>\n",
       "\t\t<dd>0</dd>\n",
       "\t<dt>$Suburb_Hawthorn</dt>\n",
       "\t\t<dd>0</dd>\n",
       "\t<dt>$Suburb_BalwynNorth</dt>\n",
       "\t\t<dd>0</dd>\n",
       "\t<dt>$Suburb_Coburg</dt>\n",
       "\t\t<dd>0</dd>\n",
       "\t<dt>$Suburb_Northcote</dt>\n",
       "\t\t<dd>0</dd>\n",
       "\t<dt>$Suburb_Kew</dt>\n",
       "\t\t<dd>0</dd>\n",
       "\t<dt>$Suburb_Brighton</dt>\n",
       "\t\t<dd>0</dd>\n",
       "\t<dt>$Suburb_Glenroy</dt>\n",
       "\t\t<dd>0</dd>\n",
       "\t<dt>$Suburb_GlenIris</dt>\n",
       "\t\t<dd>0</dd>\n",
       "\t<dt>$Suburb_Essendon</dt>\n",
       "\t\t<dd>0</dd>\n",
       "\t<dt>$Suburb_Brunswick</dt>\n",
       "\t\t<dd>0</dd>\n",
       "\t<dt>$Suburb_SouthYarra</dt>\n",
       "\t\t<dd>0</dd>\n",
       "\t<dt>$Suburb_StKilda</dt>\n",
       "\t\t<dd>0</dd>\n",
       "\t<dt>$Suburb_Preston</dt>\n",
       "\t\t<dd>0</dd>\n",
       "\t<dt>$Suburb_Richmond</dt>\n",
       "\t\t<dd>0</dd>\n",
       "\t<dt>$Suburb_BentleighEast</dt>\n",
       "\t\t<dd>0</dd>\n",
       "\t<dt>$Suburb_Reservoir</dt>\n",
       "\t\t<dd>0</dd>\n",
       "\t<dt>$Type_u</dt>\n",
       "\t\t<dd>0</dd>\n",
       "\t<dt>$Type_h</dt>\n",
       "\t\t<dd>0</dd>\n",
       "\t<dt>$Method_SP</dt>\n",
       "\t\t<dd>0</dd>\n",
       "\t<dt>$Method_PI</dt>\n",
       "\t\t<dd>0</dd>\n",
       "\t<dt>$Method_S</dt>\n",
       "\t\t<dd>0</dd>\n",
       "\t<dt>$SellerG_Kay</dt>\n",
       "\t\t<dd>0</dd>\n",
       "\t<dt>$SellerG_Hodges</dt>\n",
       "\t\t<dd>0</dd>\n",
       "\t<dt>$SellerG_McGrath</dt>\n",
       "\t\t<dd>0</dd>\n",
       "\t<dt>$SellerG_Noel</dt>\n",
       "\t\t<dd>0</dd>\n",
       "\t<dt>$SellerG_Gary</dt>\n",
       "\t\t<dd>0</dd>\n",
       "\t<dt>$SellerG_Jas</dt>\n",
       "\t\t<dd>0</dd>\n",
       "\t<dt>$SellerG_Miles</dt>\n",
       "\t\t<dd>0</dd>\n",
       "\t<dt>$SellerG_Greg</dt>\n",
       "\t\t<dd>0</dd>\n",
       "\t<dt>$SellerG_Sweeney</dt>\n",
       "\t\t<dd>0</dd>\n",
       "\t<dt>$SellerG_RT</dt>\n",
       "\t\t<dd>0</dd>\n",
       "\t<dt>$SellerG_Fletchers</dt>\n",
       "\t\t<dd>0</dd>\n",
       "\t<dt>$SellerG_Woodards</dt>\n",
       "\t\t<dd>0</dd>\n",
       "\t<dt>$SellerG_Brad</dt>\n",
       "\t\t<dd>0</dd>\n",
       "\t<dt>$SellerG_Biggin</dt>\n",
       "\t\t<dd>0</dd>\n",
       "\t<dt>$SellerG_Ray</dt>\n",
       "\t\t<dd>0</dd>\n",
       "\t<dt>$SellerG_Buxton</dt>\n",
       "\t\t<dd>0</dd>\n",
       "\t<dt>$SellerG_Marshall</dt>\n",
       "\t\t<dd>0</dd>\n",
       "\t<dt>$SellerG_Barry</dt>\n",
       "\t\t<dd>0</dd>\n",
       "\t<dt>$SellerG_hockingstuart</dt>\n",
       "\t\t<dd>0</dd>\n",
       "\t<dt>$SellerG_Jellis</dt>\n",
       "\t\t<dd>0</dd>\n",
       "\t<dt>$SellerG_Nelson</dt>\n",
       "\t\t<dd>0</dd>\n",
       "\t<dt>$CouncilArea_Whitehorse</dt>\n",
       "\t\t<dd>0</dd>\n",
       "\t<dt>$CouncilArea_Manningham</dt>\n",
       "\t\t<dd>0</dd>\n",
       "\t<dt>$CouncilArea_Brimbank</dt>\n",
       "\t\t<dd>0</dd>\n",
       "\t<dt>$CouncilArea_HobsonsBay</dt>\n",
       "\t\t<dd>0</dd>\n",
       "\t<dt>$CouncilArea_Bayside</dt>\n",
       "\t\t<dd>0</dd>\n",
       "\t<dt>$CouncilArea_Melbourne</dt>\n",
       "\t\t<dd>0</dd>\n",
       "\t<dt>$CouncilArea_Banyule</dt>\n",
       "\t\t<dd>0</dd>\n",
       "\t<dt>$CouncilArea_PortPhillip</dt>\n",
       "\t\t<dd>0</dd>\n",
       "\t<dt>$CouncilArea_Yarra</dt>\n",
       "\t\t<dd>0</dd>\n",
       "\t<dt>$CouncilArea_Maribyrnong</dt>\n",
       "\t\t<dd>0</dd>\n",
       "\t<dt>$CouncilArea_Stonnington</dt>\n",
       "\t\t<dd>0</dd>\n",
       "\t<dt>$CouncilArea_GlenEira</dt>\n",
       "\t\t<dd>0</dd>\n",
       "\t<dt>$CouncilArea_Darebin</dt>\n",
       "\t\t<dd>0</dd>\n",
       "\t<dt>$CouncilArea_MooneeValley</dt>\n",
       "\t\t<dd>0</dd>\n",
       "\t<dt>$CouncilArea_Moreland</dt>\n",
       "\t\t<dd>0</dd>\n",
       "\t<dt>$CouncilArea_Boroondara</dt>\n",
       "\t\t<dd>0</dd>\n",
       "\t<dt>$CouncilArea_</dt>\n",
       "\t\t<dd>0</dd>\n",
       "</dl>\n"
      ],
      "text/latex": [
       "\\begin{description}\n",
       "\\item[\\$Rooms] 0\n",
       "\\item[\\$Price] 1885\n",
       "\\item[\\$Distance] 0\n",
       "\\item[\\$Postcode] 0\n",
       "\\item[\\$Bedroom2] 0\n",
       "\\item[\\$Bathroom] 0\n",
       "\\item[\\$Car] 0\n",
       "\\item[\\$Landsize] 0\n",
       "\\item[\\$BuildingArea] 0\n",
       "\\item[\\$YearBuilt] 0\n",
       "\\item[\\$data] 0\n",
       "\\item[\\$Suburb\\_Doncaster] 0\n",
       "\\item[\\$Suburb\\_AscotVale] 0\n",
       "\\item[\\$Suburb\\_Footscray] 0\n",
       "\\item[\\$Suburb\\_MooneePonds] 0\n",
       "\\item[\\$Suburb\\_Thornbury] 0\n",
       "\\item[\\$Suburb\\_Hampton] 0\n",
       "\\item[\\$Suburb\\_Yarraville] 0\n",
       "\\item[\\$Suburb\\_Balwyn] 0\n",
       "\\item[\\$Suburb\\_MalvernEast] 0\n",
       "\\item[\\$Suburb\\_Camberwell] 0\n",
       "\\item[\\$Suburb\\_Carnegie] 0\n",
       "\\item[\\$Suburb\\_PortMelbourne] 0\n",
       "\\item[\\$Suburb\\_Bentleigh] 0\n",
       "\\item[\\$Suburb\\_PascoeVale] 0\n",
       "\\item[\\$Suburb\\_BrightonEast] 0\n",
       "\\item[\\$Suburb\\_Hawthorn] 0\n",
       "\\item[\\$Suburb\\_BalwynNorth] 0\n",
       "\\item[\\$Suburb\\_Coburg] 0\n",
       "\\item[\\$Suburb\\_Northcote] 0\n",
       "\\item[\\$Suburb\\_Kew] 0\n",
       "\\item[\\$Suburb\\_Brighton] 0\n",
       "\\item[\\$Suburb\\_Glenroy] 0\n",
       "\\item[\\$Suburb\\_GlenIris] 0\n",
       "\\item[\\$Suburb\\_Essendon] 0\n",
       "\\item[\\$Suburb\\_Brunswick] 0\n",
       "\\item[\\$Suburb\\_SouthYarra] 0\n",
       "\\item[\\$Suburb\\_StKilda] 0\n",
       "\\item[\\$Suburb\\_Preston] 0\n",
       "\\item[\\$Suburb\\_Richmond] 0\n",
       "\\item[\\$Suburb\\_BentleighEast] 0\n",
       "\\item[\\$Suburb\\_Reservoir] 0\n",
       "\\item[\\$Type\\_u] 0\n",
       "\\item[\\$Type\\_h] 0\n",
       "\\item[\\$Method\\_SP] 0\n",
       "\\item[\\$Method\\_PI] 0\n",
       "\\item[\\$Method\\_S] 0\n",
       "\\item[\\$SellerG\\_Kay] 0\n",
       "\\item[\\$SellerG\\_Hodges] 0\n",
       "\\item[\\$SellerG\\_McGrath] 0\n",
       "\\item[\\$SellerG\\_Noel] 0\n",
       "\\item[\\$SellerG\\_Gary] 0\n",
       "\\item[\\$SellerG\\_Jas] 0\n",
       "\\item[\\$SellerG\\_Miles] 0\n",
       "\\item[\\$SellerG\\_Greg] 0\n",
       "\\item[\\$SellerG\\_Sweeney] 0\n",
       "\\item[\\$SellerG\\_RT] 0\n",
       "\\item[\\$SellerG\\_Fletchers] 0\n",
       "\\item[\\$SellerG\\_Woodards] 0\n",
       "\\item[\\$SellerG\\_Brad] 0\n",
       "\\item[\\$SellerG\\_Biggin] 0\n",
       "\\item[\\$SellerG\\_Ray] 0\n",
       "\\item[\\$SellerG\\_Buxton] 0\n",
       "\\item[\\$SellerG\\_Marshall] 0\n",
       "\\item[\\$SellerG\\_Barry] 0\n",
       "\\item[\\$SellerG\\_hockingstuart] 0\n",
       "\\item[\\$SellerG\\_Jellis] 0\n",
       "\\item[\\$SellerG\\_Nelson] 0\n",
       "\\item[\\$CouncilArea\\_Whitehorse] 0\n",
       "\\item[\\$CouncilArea\\_Manningham] 0\n",
       "\\item[\\$CouncilArea\\_Brimbank] 0\n",
       "\\item[\\$CouncilArea\\_HobsonsBay] 0\n",
       "\\item[\\$CouncilArea\\_Bayside] 0\n",
       "\\item[\\$CouncilArea\\_Melbourne] 0\n",
       "\\item[\\$CouncilArea\\_Banyule] 0\n",
       "\\item[\\$CouncilArea\\_PortPhillip] 0\n",
       "\\item[\\$CouncilArea\\_Yarra] 0\n",
       "\\item[\\$CouncilArea\\_Maribyrnong] 0\n",
       "\\item[\\$CouncilArea\\_Stonnington] 0\n",
       "\\item[\\$CouncilArea\\_GlenEira] 0\n",
       "\\item[\\$CouncilArea\\_Darebin] 0\n",
       "\\item[\\$CouncilArea\\_MooneeValley] 0\n",
       "\\item[\\$CouncilArea\\_Moreland] 0\n",
       "\\item[\\$CouncilArea\\_Boroondara] 0\n",
       "\\item[\\$CouncilArea\\_] 0\n",
       "\\end{description}\n"
      ],
      "text/markdown": [
       "$Rooms\n",
       ":   0\n",
       "$Price\n",
       ":   1885\n",
       "$Distance\n",
       ":   0\n",
       "$Postcode\n",
       ":   0\n",
       "$Bedroom2\n",
       ":   0\n",
       "$Bathroom\n",
       ":   0\n",
       "$Car\n",
       ":   0\n",
       "$Landsize\n",
       ":   0\n",
       "$BuildingArea\n",
       ":   0\n",
       "$YearBuilt\n",
       ":   0\n",
       "$data\n",
       ":   0\n",
       "$Suburb_Doncaster\n",
       ":   0\n",
       "$Suburb_AscotVale\n",
       ":   0\n",
       "$Suburb_Footscray\n",
       ":   0\n",
       "$Suburb_MooneePonds\n",
       ":   0\n",
       "$Suburb_Thornbury\n",
       ":   0\n",
       "$Suburb_Hampton\n",
       ":   0\n",
       "$Suburb_Yarraville\n",
       ":   0\n",
       "$Suburb_Balwyn\n",
       ":   0\n",
       "$Suburb_MalvernEast\n",
       ":   0\n",
       "$Suburb_Camberwell\n",
       ":   0\n",
       "$Suburb_Carnegie\n",
       ":   0\n",
       "$Suburb_PortMelbourne\n",
       ":   0\n",
       "$Suburb_Bentleigh\n",
       ":   0\n",
       "$Suburb_PascoeVale\n",
       ":   0\n",
       "$Suburb_BrightonEast\n",
       ":   0\n",
       "$Suburb_Hawthorn\n",
       ":   0\n",
       "$Suburb_BalwynNorth\n",
       ":   0\n",
       "$Suburb_Coburg\n",
       ":   0\n",
       "$Suburb_Northcote\n",
       ":   0\n",
       "$Suburb_Kew\n",
       ":   0\n",
       "$Suburb_Brighton\n",
       ":   0\n",
       "$Suburb_Glenroy\n",
       ":   0\n",
       "$Suburb_GlenIris\n",
       ":   0\n",
       "$Suburb_Essendon\n",
       ":   0\n",
       "$Suburb_Brunswick\n",
       ":   0\n",
       "$Suburb_SouthYarra\n",
       ":   0\n",
       "$Suburb_StKilda\n",
       ":   0\n",
       "$Suburb_Preston\n",
       ":   0\n",
       "$Suburb_Richmond\n",
       ":   0\n",
       "$Suburb_BentleighEast\n",
       ":   0\n",
       "$Suburb_Reservoir\n",
       ":   0\n",
       "$Type_u\n",
       ":   0\n",
       "$Type_h\n",
       ":   0\n",
       "$Method_SP\n",
       ":   0\n",
       "$Method_PI\n",
       ":   0\n",
       "$Method_S\n",
       ":   0\n",
       "$SellerG_Kay\n",
       ":   0\n",
       "$SellerG_Hodges\n",
       ":   0\n",
       "$SellerG_McGrath\n",
       ":   0\n",
       "$SellerG_Noel\n",
       ":   0\n",
       "$SellerG_Gary\n",
       ":   0\n",
       "$SellerG_Jas\n",
       ":   0\n",
       "$SellerG_Miles\n",
       ":   0\n",
       "$SellerG_Greg\n",
       ":   0\n",
       "$SellerG_Sweeney\n",
       ":   0\n",
       "$SellerG_RT\n",
       ":   0\n",
       "$SellerG_Fletchers\n",
       ":   0\n",
       "$SellerG_Woodards\n",
       ":   0\n",
       "$SellerG_Brad\n",
       ":   0\n",
       "$SellerG_Biggin\n",
       ":   0\n",
       "$SellerG_Ray\n",
       ":   0\n",
       "$SellerG_Buxton\n",
       ":   0\n",
       "$SellerG_Marshall\n",
       ":   0\n",
       "$SellerG_Barry\n",
       ":   0\n",
       "$SellerG_hockingstuart\n",
       ":   0\n",
       "$SellerG_Jellis\n",
       ":   0\n",
       "$SellerG_Nelson\n",
       ":   0\n",
       "$CouncilArea_Whitehorse\n",
       ":   0\n",
       "$CouncilArea_Manningham\n",
       ":   0\n",
       "$CouncilArea_Brimbank\n",
       ":   0\n",
       "$CouncilArea_HobsonsBay\n",
       ":   0\n",
       "$CouncilArea_Bayside\n",
       ":   0\n",
       "$CouncilArea_Melbourne\n",
       ":   0\n",
       "$CouncilArea_Banyule\n",
       ":   0\n",
       "$CouncilArea_PortPhillip\n",
       ":   0\n",
       "$CouncilArea_Yarra\n",
       ":   0\n",
       "$CouncilArea_Maribyrnong\n",
       ":   0\n",
       "$CouncilArea_Stonnington\n",
       ":   0\n",
       "$CouncilArea_GlenEira\n",
       ":   0\n",
       "$CouncilArea_Darebin\n",
       ":   0\n",
       "$CouncilArea_MooneeValley\n",
       ":   0\n",
       "$CouncilArea_Moreland\n",
       ":   0\n",
       "$CouncilArea_Boroondara\n",
       ":   0\n",
       "$CouncilArea_\n",
       ":   0\n",
       "\n",
       "\n"
      ],
      "text/plain": [
       "$Rooms\n",
       "[1] 0\n",
       "\n",
       "$Price\n",
       "[1] 1885\n",
       "\n",
       "$Distance\n",
       "[1] 0\n",
       "\n",
       "$Postcode\n",
       "[1] 0\n",
       "\n",
       "$Bedroom2\n",
       "[1] 0\n",
       "\n",
       "$Bathroom\n",
       "[1] 0\n",
       "\n",
       "$Car\n",
       "[1] 0\n",
       "\n",
       "$Landsize\n",
       "[1] 0\n",
       "\n",
       "$BuildingArea\n",
       "[1] 0\n",
       "\n",
       "$YearBuilt\n",
       "[1] 0\n",
       "\n",
       "$data\n",
       "[1] 0\n",
       "\n",
       "$Suburb_Doncaster\n",
       "[1] 0\n",
       "\n",
       "$Suburb_AscotVale\n",
       "[1] 0\n",
       "\n",
       "$Suburb_Footscray\n",
       "[1] 0\n",
       "\n",
       "$Suburb_MooneePonds\n",
       "[1] 0\n",
       "\n",
       "$Suburb_Thornbury\n",
       "[1] 0\n",
       "\n",
       "$Suburb_Hampton\n",
       "[1] 0\n",
       "\n",
       "$Suburb_Yarraville\n",
       "[1] 0\n",
       "\n",
       "$Suburb_Balwyn\n",
       "[1] 0\n",
       "\n",
       "$Suburb_MalvernEast\n",
       "[1] 0\n",
       "\n",
       "$Suburb_Camberwell\n",
       "[1] 0\n",
       "\n",
       "$Suburb_Carnegie\n",
       "[1] 0\n",
       "\n",
       "$Suburb_PortMelbourne\n",
       "[1] 0\n",
       "\n",
       "$Suburb_Bentleigh\n",
       "[1] 0\n",
       "\n",
       "$Suburb_PascoeVale\n",
       "[1] 0\n",
       "\n",
       "$Suburb_BrightonEast\n",
       "[1] 0\n",
       "\n",
       "$Suburb_Hawthorn\n",
       "[1] 0\n",
       "\n",
       "$Suburb_BalwynNorth\n",
       "[1] 0\n",
       "\n",
       "$Suburb_Coburg\n",
       "[1] 0\n",
       "\n",
       "$Suburb_Northcote\n",
       "[1] 0\n",
       "\n",
       "$Suburb_Kew\n",
       "[1] 0\n",
       "\n",
       "$Suburb_Brighton\n",
       "[1] 0\n",
       "\n",
       "$Suburb_Glenroy\n",
       "[1] 0\n",
       "\n",
       "$Suburb_GlenIris\n",
       "[1] 0\n",
       "\n",
       "$Suburb_Essendon\n",
       "[1] 0\n",
       "\n",
       "$Suburb_Brunswick\n",
       "[1] 0\n",
       "\n",
       "$Suburb_SouthYarra\n",
       "[1] 0\n",
       "\n",
       "$Suburb_StKilda\n",
       "[1] 0\n",
       "\n",
       "$Suburb_Preston\n",
       "[1] 0\n",
       "\n",
       "$Suburb_Richmond\n",
       "[1] 0\n",
       "\n",
       "$Suburb_BentleighEast\n",
       "[1] 0\n",
       "\n",
       "$Suburb_Reservoir\n",
       "[1] 0\n",
       "\n",
       "$Type_u\n",
       "[1] 0\n",
       "\n",
       "$Type_h\n",
       "[1] 0\n",
       "\n",
       "$Method_SP\n",
       "[1] 0\n",
       "\n",
       "$Method_PI\n",
       "[1] 0\n",
       "\n",
       "$Method_S\n",
       "[1] 0\n",
       "\n",
       "$SellerG_Kay\n",
       "[1] 0\n",
       "\n",
       "$SellerG_Hodges\n",
       "[1] 0\n",
       "\n",
       "$SellerG_McGrath\n",
       "[1] 0\n",
       "\n",
       "$SellerG_Noel\n",
       "[1] 0\n",
       "\n",
       "$SellerG_Gary\n",
       "[1] 0\n",
       "\n",
       "$SellerG_Jas\n",
       "[1] 0\n",
       "\n",
       "$SellerG_Miles\n",
       "[1] 0\n",
       "\n",
       "$SellerG_Greg\n",
       "[1] 0\n",
       "\n",
       "$SellerG_Sweeney\n",
       "[1] 0\n",
       "\n",
       "$SellerG_RT\n",
       "[1] 0\n",
       "\n",
       "$SellerG_Fletchers\n",
       "[1] 0\n",
       "\n",
       "$SellerG_Woodards\n",
       "[1] 0\n",
       "\n",
       "$SellerG_Brad\n",
       "[1] 0\n",
       "\n",
       "$SellerG_Biggin\n",
       "[1] 0\n",
       "\n",
       "$SellerG_Ray\n",
       "[1] 0\n",
       "\n",
       "$SellerG_Buxton\n",
       "[1] 0\n",
       "\n",
       "$SellerG_Marshall\n",
       "[1] 0\n",
       "\n",
       "$SellerG_Barry\n",
       "[1] 0\n",
       "\n",
       "$SellerG_hockingstuart\n",
       "[1] 0\n",
       "\n",
       "$SellerG_Jellis\n",
       "[1] 0\n",
       "\n",
       "$SellerG_Nelson\n",
       "[1] 0\n",
       "\n",
       "$CouncilArea_Whitehorse\n",
       "[1] 0\n",
       "\n",
       "$CouncilArea_Manningham\n",
       "[1] 0\n",
       "\n",
       "$CouncilArea_Brimbank\n",
       "[1] 0\n",
       "\n",
       "$CouncilArea_HobsonsBay\n",
       "[1] 0\n",
       "\n",
       "$CouncilArea_Bayside\n",
       "[1] 0\n",
       "\n",
       "$CouncilArea_Melbourne\n",
       "[1] 0\n",
       "\n",
       "$CouncilArea_Banyule\n",
       "[1] 0\n",
       "\n",
       "$CouncilArea_PortPhillip\n",
       "[1] 0\n",
       "\n",
       "$CouncilArea_Yarra\n",
       "[1] 0\n",
       "\n",
       "$CouncilArea_Maribyrnong\n",
       "[1] 0\n",
       "\n",
       "$CouncilArea_Stonnington\n",
       "[1] 0\n",
       "\n",
       "$CouncilArea_GlenEira\n",
       "[1] 0\n",
       "\n",
       "$CouncilArea_Darebin\n",
       "[1] 0\n",
       "\n",
       "$CouncilArea_MooneeValley\n",
       "[1] 0\n",
       "\n",
       "$CouncilArea_Moreland\n",
       "[1] 0\n",
       "\n",
       "$CouncilArea_Boroondara\n",
       "[1] 0\n",
       "\n",
       "$CouncilArea_\n",
       "[1] 0\n"
      ]
     },
     "metadata": {},
     "output_type": "display_data"
    }
   ],
   "source": [
    "lapply(h,function(x) sum(is.na(x)))"
   ]
  },
  {
   "cell_type": "markdown",
   "id": "685c23f1",
   "metadata": {},
   "source": [
    "### Data Separation-\n",
    "\n",
    "Now we are done with data preparation , lets separate the data now.We will filter it by train & test & remove data column from train data set & remove data & target variable Price from test data set."
   ]
  },
  {
   "cell_type": "code",
   "execution_count": 24,
   "id": "244b58d1",
   "metadata": {},
   "outputs": [],
   "source": [
    "h_train=h %>% filter(data==\"train\") %>% select(-data)\n",
    "h_test=h %>% filter(data==\"test\") %>% select(-data,-Price)"
   ]
  },
  {
   "cell_type": "markdown",
   "id": "e7993a56",
   "metadata": {},
   "source": [
    "### Regression Model Building with Random Forest-\n",
    "\n",
    "As we know that RandomForest has 4 parameters- mtry,ntree,maxnodes & nodessize.Let us set the parameter values that we want to try out."
   ]
  },
  {
   "cell_type": "code",
   "execution_count": 25,
   "id": "35216d27",
   "metadata": {},
   "outputs": [],
   "source": [
    "param=list(mtry=c(5,10,20,30),\n",
    "           ntree=c(50,100,200,500),\n",
    "           maxnodes=c(5,10,15,20),\n",
    "           nodesize=c(1,2,5,10))"
   ]
  },
  {
   "cell_type": "markdown",
   "id": "43d157f1",
   "metadata": {},
   "source": [
    "Let's write a function which selects a random subset of combination."
   ]
  },
  {
   "cell_type": "code",
   "execution_count": 26,
   "id": "d6c0a6a7",
   "metadata": {},
   "outputs": [],
   "source": [
    "subset_paras=function(full_list_para,n=10){\n",
    "  all_comb=expand.grid(full_list_para)\n",
    "  s=sample(1:nrow(all_comb),n)\n",
    "  subset_para=all_comb[s,]\n",
    "  return(subset_para)\n",
    "}"
   ]
  },
  {
   "cell_type": "markdown",
   "id": "f353632a",
   "metadata": {},
   "source": [
    "If we pass the list of parameter values (full_list_para ) that we want to try and specify number of combinations (n) we want to try; it randomly selects those many combinations out of all possible parameter combinations and returns them in form of a dataframe."
   ]
  },
  {
   "cell_type": "markdown",
   "id": "117b0727",
   "metadata": {},
   "source": [
    "We will take num_trials as 40 which is around 15% of total possible combinations (4^4 i.e 256). since a good value for num_trials is around 10-20% of total possible combination."
   ]
  },
  {
   "cell_type": "code",
   "execution_count": 27,
   "id": "acf012e2",
   "metadata": {},
   "outputs": [],
   "source": [
    "num_trials=40\n",
    "my_params=subset_paras(param,num_trials)"
   ]
  },
  {
   "cell_type": "code",
   "execution_count": 28,
   "id": "7a1f5d19",
   "metadata": {},
   "outputs": [
    {
     "name": "stderr",
     "output_type": "stream",
     "text": [
      "Installing package into 'C:/Users/HomePC/AppData/Local/R/win-library/4.4'\n",
      "(as 'lib' is unspecified)\n",
      "\n"
     ]
    },
    {
     "name": "stdout",
     "output_type": "stream",
     "text": [
      "package 'cvTools' successfully unpacked and MD5 sums checked\n",
      "\n",
      "The downloaded binary packages are in\n",
      "\tC:\\Users\\HomePC\\AppData\\Local\\Temp\\RtmpGGZ38a\\downloaded_packages\n"
     ]
    }
   ],
   "source": [
    "install.packages(\"cvTools\")\n"
   ]
  },
  {
   "cell_type": "code",
   "execution_count": 29,
   "id": "a87cec00",
   "metadata": {},
   "outputs": [
    {
     "name": "stderr",
     "output_type": "stream",
     "text": [
      "Loading required package: lattice\n",
      "\n",
      "Loading required package: robustbase\n",
      "\n"
     ]
    }
   ],
   "source": [
    "library(cvTools)"
   ]
  },
  {
   "cell_type": "code",
   "execution_count": 39,
   "id": "80d4c8b8",
   "metadata": {},
   "outputs": [],
   "source": [
    "library(randomForest)"
   ]
  },
  {
   "cell_type": "markdown",
   "id": "9e403611",
   "metadata": {},
   "source": [
    "In the below line of codes every time we find a parameter combination which has lowest error so far, it will be printed in the output.\n",
    "\n"
   ]
  },
  {
   "cell_type": "code",
   "execution_count": 40,
   "id": "23cc0237",
   "metadata": {},
   "outputs": [
    {
     "name": "stdout",
     "output_type": "stream",
     "text": [
      "[1] \"starting iteration:1\"\n",
      "   mtry ntree maxnodes nodesize\n",
      "33    5    50       15        1\n",
      "[1] 491976.5\n",
      "[1] \"DONE\"\n",
      "[1] \"starting iteration:2\"\n",
      "[1] \"DONE\"\n",
      "[1] \"starting iteration:3\"\n",
      "   mtry ntree maxnodes nodesize\n",
      "60   30   200       20        1\n",
      "[1] 405785.2\n",
      "[1] \"DONE\"\n",
      "[1] \"starting iteration:4\"\n",
      "[1] \"DONE\"\n",
      "[1] \"starting iteration:5\"\n",
      "[1] \"DONE\"\n",
      "[1] \"starting iteration:6\"\n",
      "[1] \"DONE\"\n",
      "[1] \"starting iteration:7\"\n",
      "[1] \"DONE\"\n",
      "[1] \"starting iteration:8\"\n",
      "[1] \"DONE\"\n",
      "[1] \"starting iteration:9\"\n",
      "[1] \"DONE\"\n",
      "[1] \"starting iteration:10\"\n",
      "[1] \"DONE\"\n"
     ]
    }
   ],
   "source": [
    "myerror=9999999\n",
    "\n",
    "for(i in 1:num_trials){\n",
    "  print(paste0('starting iteration:',i))\n",
    " \n",
    "  params=my_params[i,]\n",
    "  k=cvTuning(randomForest,Price~.,\n",
    "             data =h_train,\n",
    "             tuning =params,\n",
    "             folds = cvFolds(nrow(h_train), K=10, type = \"random\"),\n",
    "             seed =2\n",
    "  )\n",
    "  score.this=k$cv[,2]\n",
    "  if(score.this<myerror){\n",
    "    print(params)\n",
    "    \n",
    "    myerror=score.this\n",
    "    print(myerror)\n",
    "    \n",
    "    best_params=params\n",
    "  }\n",
    "   print('DONE')\n",
    "  \n",
    "}"
   ]
  },
  {
   "cell_type": "markdown",
   "id": "cabd5e3e",
   "metadata": {},
   "source": [
    "To know tentative performance measure , that’ll be latest value of myerror"
   ]
  },
  {
   "cell_type": "code",
   "execution_count": 36,
   "id": "97872284",
   "metadata": {},
   "outputs": [
    {
     "data": {
      "text/html": [
       "405785.209473964"
      ],
      "text/latex": [
       "405785.209473964"
      ],
      "text/markdown": [
       "405785.209473964"
      ],
      "text/plain": [
       "[1] 405785.2"
      ]
     },
     "metadata": {},
     "output_type": "display_data"
    }
   ],
   "source": [
    "myerror"
   ]
  },
  {
   "cell_type": "markdown",
   "id": "b1929aef",
   "metadata": {},
   "source": [
    "And Our best_params comes out to be"
   ]
  },
  {
   "cell_type": "code",
   "execution_count": 37,
   "id": "9679d43f",
   "metadata": {},
   "outputs": [
    {
     "data": {
      "text/html": [
       "<table class=\"dataframe\">\n",
       "<caption>A data.frame: 1 × 4</caption>\n",
       "<thead>\n",
       "\t<tr><th></th><th scope=col>mtry</th><th scope=col>ntree</th><th scope=col>maxnodes</th><th scope=col>nodesize</th></tr>\n",
       "\t<tr><th></th><th scope=col>&lt;dbl&gt;</th><th scope=col>&lt;dbl&gt;</th><th scope=col>&lt;dbl&gt;</th><th scope=col>&lt;dbl&gt;</th></tr>\n",
       "</thead>\n",
       "<tbody>\n",
       "\t<tr><th scope=row>60</th><td>30</td><td>200</td><td>20</td><td>1</td></tr>\n",
       "</tbody>\n",
       "</table>\n"
      ],
      "text/latex": [
       "A data.frame: 1 × 4\n",
       "\\begin{tabular}{r|llll}\n",
       "  & mtry & ntree & maxnodes & nodesize\\\\\n",
       "  & <dbl> & <dbl> & <dbl> & <dbl>\\\\\n",
       "\\hline\n",
       "\t60 & 30 & 200 & 20 & 1\\\\\n",
       "\\end{tabular}\n"
      ],
      "text/markdown": [
       "\n",
       "A data.frame: 1 × 4\n",
       "\n",
       "| <!--/--> | mtry &lt;dbl&gt; | ntree &lt;dbl&gt; | maxnodes &lt;dbl&gt; | nodesize &lt;dbl&gt; |\n",
       "|---|---|---|---|---|\n",
       "| 60 | 30 | 200 | 20 | 1 |\n",
       "\n"
      ],
      "text/plain": [
       "   mtry ntree maxnodes nodesize\n",
       "60 30   200   20       1       "
      ]
     },
     "metadata": {},
     "output_type": "display_data"
    }
   ],
   "source": [
    "best_params"
   ]
  },
  {
   "cell_type": "markdown",
   "id": "0004c87a",
   "metadata": {},
   "source": [
    "### Model Building-\n",
    "\n",
    "Now we have best values of paramteres from cross validation. We’ll use these values to build our RandomForest model on entire training data and use that for prediction on test."
   ]
  },
  {
   "cell_type": "code",
   "execution_count": 38,
   "id": "c22f5f17",
   "metadata": {},
   "outputs": [],
   "source": [
    "h.rf.final=randomForest(Price~.,\n",
    "                         mtry=best_params$mtry,\n",
    "                         ntree=best_params$ntree,\n",
    "                         maxnodes=best_params$maxnodes,\n",
    "                         nodesize=best_params$nodesize,\n",
    "                         data=h_train)"
   ]
  },
  {
   "cell_type": "markdown",
   "id": "d41023f8",
   "metadata": {},
   "source": [
    "Prediction on Test data set-"
   ]
  },
  {
   "cell_type": "code",
   "execution_count": 41,
   "id": "7f59a7cc",
   "metadata": {},
   "outputs": [],
   "source": [
    "test.pred=predict(h.rf.final,newdata = h_test)"
   ]
  },
  {
   "cell_type": "code",
   "execution_count": 44,
   "id": "57625a06",
   "metadata": {},
   "outputs": [
    {
     "data": {
      "text/html": [
       "<style>\n",
       ".dl-inline {width: auto; margin:0; padding: 0}\n",
       ".dl-inline>dt, .dl-inline>dd {float: none; width: auto; display: inline-block}\n",
       ".dl-inline>dt::after {content: \":\\0020\"; padding-right: .5ex}\n",
       ".dl-inline>dt:not(:first-of-type) {padding-left: .5ex}\n",
       "</style><dl class=dl-inline><dt>1</dt><dd>454023.855889265</dd><dt>2</dt><dd>620932.193721076</dd><dt>3</dt><dd>561602.542545023</dd><dt>4</dt><dd>1262411.37803875</dd><dt>5</dt><dd>1070233.3917627</dd><dt>6</dt><dd>959704.929474218</dd><dt>7</dt><dd>946533.541788285</dd><dt>8</dt><dd>568860.289878134</dd><dt>9</dt><dd>448577.708287538</dd><dt>10</dt><dd>1082275.76194734</dd></dl>\n"
      ],
      "text/latex": [
       "\\begin{description*}\n",
       "\\item[1] 454023.855889265\n",
       "\\item[2] 620932.193721076\n",
       "\\item[3] 561602.542545023\n",
       "\\item[4] 1262411.37803875\n",
       "\\item[5] 1070233.3917627\n",
       "\\item[6] 959704.929474218\n",
       "\\item[7] 946533.541788285\n",
       "\\item[8] 568860.289878134\n",
       "\\item[9] 448577.708287538\n",
       "\\item[10] 1082275.76194734\n",
       "\\end{description*}\n"
      ],
      "text/markdown": [
       "1\n",
       ":   454023.8558892652\n",
       ":   620932.1937210763\n",
       ":   561602.5425450234\n",
       ":   1262411.378038755\n",
       ":   1070233.39176276\n",
       ":   959704.9294742187\n",
       ":   946533.5417882858\n",
       ":   568860.2898781349\n",
       ":   448577.70828753810\n",
       ":   1082275.76194734\n",
       "\n"
      ],
      "text/plain": [
       "        1         2         3         4         5         6         7         8 \n",
       " 454023.9  620932.2  561602.5 1262411.4 1070233.4  959704.9  946533.5  568860.3 \n",
       "        9        10 \n",
       " 448577.7 1082275.8 "
      ]
     },
     "metadata": {},
     "output_type": "display_data"
    }
   ],
   "source": [
    "head(test.pred, n = 10)  # To print the first 10 rows"
   ]
  },
  {
   "cell_type": "code",
   "execution_count": 47,
   "id": "2524a588",
   "metadata": {},
   "outputs": [
    {
     "name": "stderr",
     "output_type": "stream",
     "text": [
      "Installing package into 'C:/Users/HomePC/AppData/Local/R/win-library/4.4'\n",
      "(as 'lib' is unspecified)\n",
      "\n",
      "also installing the dependencies 'bit', 'bit64', 'progress', 'hms', 'vroom', 'tzdb'\n",
      "\n",
      "\n"
     ]
    },
    {
     "name": "stdout",
     "output_type": "stream",
     "text": [
      "package 'bit' successfully unpacked and MD5 sums checked\n",
      "package 'bit64' successfully unpacked and MD5 sums checked\n",
      "package 'progress' successfully unpacked and MD5 sums checked\n",
      "package 'hms' successfully unpacked and MD5 sums checked\n",
      "package 'vroom' successfully unpacked and MD5 sums checked\n",
      "package 'tzdb' successfully unpacked and MD5 sums checked\n",
      "package 'readr' successfully unpacked and MD5 sums checked\n",
      "\n",
      "The downloaded binary packages are in\n",
      "\tC:\\Users\\HomePC\\AppData\\Local\\Temp\\RtmpGGZ38a\\downloaded_packages\n"
     ]
    }
   ],
   "source": [
    "install.packages(\"readr\")"
   ]
  },
  {
   "cell_type": "code",
   "execution_count": 55,
   "id": "eff93975",
   "metadata": {},
   "outputs": [],
   "source": [
    "# Assuming test.pred is your data frame\n",
    "write.csv(test.pred, \"C:\\\\Users\\\\HomePC\\\\Nikhil_Jadhav_P1_part2.csv\", row.names = FALSE)"
   ]
  },
  {
   "cell_type": "code",
   "execution_count": null,
   "id": "48525695",
   "metadata": {},
   "outputs": [],
   "source": [
    "y_train.to_csv(\"C:\\\\Users\\\\HomePC\\\\Nikhil_Jadhav_P4_part22.csv\", index=False)"
   ]
  }
 ],
 "metadata": {
  "kernelspec": {
   "display_name": "R",
   "language": "R",
   "name": "ir"
  },
  "language_info": {
   "codemirror_mode": "r",
   "file_extension": ".r",
   "mimetype": "text/x-r-source",
   "name": "R",
   "pygments_lexer": "r",
   "version": "4.4.0"
  }
 },
 "nbformat": 4,
 "nbformat_minor": 5
}
